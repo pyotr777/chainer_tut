{
 "cells": [
  {
   "cell_type": "code",
   "execution_count": 1,
   "metadata": {},
   "outputs": [
    {
     "name": "stdout",
     "output_type": "stream",
     "text": [
      "Requirement already up-to-date: chainer in /usr/local/lib/python2.7/dist-packages\n",
      "Requirement already up-to-date: filelock in /usr/local/lib/python2.7/dist-packages (from chainer)\n",
      "Requirement already up-to-date: protobuf>=2.6.0 in /usr/local/lib/python2.7/dist-packages (from chainer)\n",
      "Requirement already up-to-date: numpy>=1.9.0 in /usr/local/lib/python2.7/dist-packages (from chainer)\n",
      "Requirement already up-to-date: nose in /usr/local/lib/python2.7/dist-packages (from chainer)\n",
      "Requirement already up-to-date: six>=1.9.0 in /usr/local/lib/python2.7/dist-packages (from chainer)\n",
      "Requirement already up-to-date: setuptools in /usr/local/lib/python2.7/dist-packages (from protobuf>=2.6.0->chainer)\n"
     ]
    }
   ],
   "source": [
    "! pip install -U chainer"
   ]
  },
  {
   "cell_type": "code",
   "execution_count": 2,
   "metadata": {},
   "outputs": [],
   "source": [
    "import chainer\n",
    "from matplotlib import pyplot as plt\n",
    "%matplotlib inline\n",
    "import numpy as np\n",
    "import chainer.functions as F\n",
    "import chainer.links as L\n",
    "import argparse\n",
    "import math\n",
    "from __future__ import division"
   ]
  },
  {
   "cell_type": "code",
   "execution_count": 3,
   "metadata": {},
   "outputs": [
    {
     "name": "stdout",
     "output_type": "stream",
     "text": [
      "2.0.1\n"
     ]
    }
   ],
   "source": [
    "print (chainer.__version__)"
   ]
  },
  {
   "cell_type": "markdown",
   "metadata": {},
   "source": [
    "## 1. Load MNIST dataset"
   ]
  },
  {
   "cell_type": "code",
   "execution_count": 4,
   "metadata": {
    "collapsed": true
   },
   "outputs": [],
   "source": [
    "import os\n",
    "from urllib import urlretrieve\n",
    "\n",
    "def download(filename, source='http://yann.lecun.com/exdb/mnist/'):\n",
    "    print(\"Downloading %s\" % filename)\n",
    "    urlretrieve(source + filename, filename)\n",
    "\n",
    "# We then define functions for loading MNIST images and labels.\n",
    "# For convenience, they also download the requested files if needed.\n",
    "import gzip\n",
    "\n",
    "def load_mnist_images(filename):\n",
    "    if not os.path.exists(filename):\n",
    "        download(filename)\n",
    "    # Read the inputs in Yann LeCun's binary format.\n",
    "    with gzip.open(filename, 'rb') as f:\n",
    "        data = np.frombuffer(f.read(), np.uint8, offset=16)\n",
    "    # The inputs are vectors now, we reshape them to monochrome 2D images,\n",
    "    # following the shape convention: (examples, channels, rows, columns)\n",
    "    data = data.reshape(-1, 1, 28, 28)\n",
    "    # The inputs come as bytes, we convert them to float32 in range [0,1].\n",
    "    # (Actually to range [0, 255/256], for compatibility to the version\n",
    "    # provided at http://deeplearning.net/data/mnist/mnist.pkl.gz.)\n",
    "    return data / np.float32(256)\n",
    "\n",
    "def load_mnist_labels(filename):\n",
    "    if not os.path.exists(filename):\n",
    "        download(filename)\n",
    "    # Read the labels in Yann LeCun's binary format.\n",
    "    with gzip.open(filename, 'rb') as f:\n",
    "        data = np.frombuffer(f.read(), np.uint8, offset=8)\n",
    "    # The labels are vectors of integers now, that's exactly what we want.\n",
    "    return data"
   ]
  },
  {
   "cell_type": "code",
   "execution_count": 5,
   "metadata": {
    "collapsed": true
   },
   "outputs": [],
   "source": [
    "X_train = load_mnist_images('train-images-idx3-ubyte.gz')\n",
    "y_train = load_mnist_labels('train-labels-idx1-ubyte.gz')\n",
    "X_test = load_mnist_images('t10k-images-idx3-ubyte.gz')\n",
    "y_test = load_mnist_labels('t10k-labels-idx1-ubyte.gz')"
   ]
  },
  {
   "cell_type": "markdown",
   "metadata": {},
   "source": [
    "## 2. Numbers plot function"
   ]
  },
  {
   "cell_type": "code",
   "execution_count": 116,
   "metadata": {
    "collapsed": true
   },
   "outputs": [],
   "source": [
    "def plotSet(X,Y,N=0) :\n",
    "    if N==0:\n",
    "        N = len(X)\n",
    "    total = N\n",
    "    if (len(X) < N):\n",
    "        N = len(X)\n",
    "    if (len(Y) < N):\n",
    "        N = len(Y)\n",
    "    max_in_row = 25\n",
    "    M = 1\n",
    "    if N > max_in_row:\n",
    "        M = int(math.ceil(N/max_in_row))\n",
    "        N = max_in_row\n",
    "    w = math.floor(1/N*1000)/1000    \n",
    "    #w=0.1\n",
    "    h = math.floor(1/(M) *1000)/1000\n",
    "    #h=0.3\n",
    "    #print N,M,w,h\n",
    "    pad = 0\n",
    "    fig = plt.figure(figsize=(N/1.5, M), dpi=120)    \n",
    "    for j in range(M):\n",
    "        for i in range(N):\n",
    "            n = i+(j*N)+1 \n",
    "            if n > total:\n",
    "                break\n",
    "            l = pad+(i+1)*(w+pad)\n",
    "            b = pad+(j)*(h+pad)\n",
    "            #print n,l,b,Y[n-1]\n",
    "            #a = fig.add_axes([l, b, w, h])\n",
    "            a = fig.add_subplot(M,N,n)\n",
    "            a.imshow(X[n-1][0])\n",
    "            a.axis('off')\n",
    "            a.set_title(str(Y[n-1]),fontsize=10)\n",
    "    #plt.tight_layout()"
   ]
  },
  {
   "cell_type": "code",
   "execution_count": 117,
   "metadata": {},
   "outputs": [
    {
     "data": {
      "image/png": "[encoded data removed]",
      "text/plain": [
       "<matplotlib.figure.Figure at 0x7f4252991cd0>"
      ]
     },
     "metadata": {},
     "output_type": "display_data"
    }
   ],
   "source": [
    "plotSet(X_test,y_test, 45)"
   ]
  },
  {
   "cell_type": "markdown",
   "metadata": {},
   "source": [
    "# 3. Create model"
   ]
  },
  {
   "cell_type": "code",
   "execution_count": 118,
   "metadata": {},
   "outputs": [],
   "source": [
    "class MLP(chainer.Chain):\n",
    "    \n",
    "    def __init__(self):\n",
    "        super(MLP, self).__init__(\n",
    "            l1 = L.Convolution2D(None, 32, (3,3)),\n",
    "            l2 = L.Convolution2D(None, 32, (3,3)),\n",
    "            l3 = L.Linear(None, 128),\n",
    "            l4 = L.Linear(None, 10),\n",
    "        )\n",
    "\n",
    "    def __call__(self, x):\n",
    "        h1 = F.relu(self.l1(x))\n",
    "        h2 = F.relu(self.l2(h1))\n",
    "        h3 = F.max_pooling_2d(h2, (2,2))\n",
    "        h4 = F.dropout(h3, 0.25)\n",
    "        #print \"H4 shape:\", h4.shape\n",
    "        h5 = F.reshape(h4,(h4.shape[0],h4.shape[1]*h4.shape[2]*h4.shape[3]))\n",
    "        h6 = F.relu(self.l3(h5))\n",
    "        h7 = F.dropout(h6, 0.5)\n",
    "        h8 = F.softmax(self.l4(h7))\n",
    "        return h8\n"
   ]
  },
  {
   "cell_type": "markdown",
   "metadata": {},
   "source": [
    "# 4. Train model\n",
    "\n",
    "### 4.1 Training parameters"
   ]
  },
  {
   "cell_type": "code",
   "execution_count": 184,
   "metadata": {},
   "outputs": [
    {
     "name": "stdout",
     "output_type": "stream",
     "text": [
      "(60000, 1, 28, 28)\n"
     ]
    }
   ],
   "source": [
    "n_epoches = 12\n",
    "batchsize = 100\n",
    "samples = 60000 # Samples for training\n",
    "print X_train[:samples].shape"
   ]
  },
  {
   "cell_type": "code",
   "execution_count": 185,
   "metadata": {},
   "outputs": [],
   "source": [
    "from chainer.datasets import tuple_dataset\n",
    "traning_dataset = tuple_dataset.TupleDataset(X_train, y_train)\n",
    "test_dataset = tuple_dataset.TupleDataset(X_test, y_test)\n",
    "from chainer.dataset.convert import concat_examples"
   ]
  },
  {
   "cell_type": "markdown",
   "metadata": {},
   "source": [
    "### 4.2 Training\n",
    "\n",
    "Use classes: Optimizer - Classifier - MLP (custom model network).\n",
    "\n",
    "For training use Optimizer.update() function."
   ]
  },
  {
   "cell_type": "code",
   "execution_count": 202,
   "metadata": {
    "scrolled": true
   },
   "outputs": [
    {
     "name": "stdout",
     "output_type": "stream",
     "text": [
      "2.29900884628 0.129999995232\n",
      "2.26051449776 0.25\n",
      "2.23414754868 0.219999998808\n",
      "2.26704931259 0.159999996424\n",
      "2.1705930233 0.330000013113\n",
      "2.16920733452 0.310000002384\n",
      "2.15061116219 0.319999992847\n",
      "2.08018088341 0.389999985695\n",
      "2.06660890579 0.449999988079\n",
      "2.06121277809 0.430000007153\n",
      "1.95308256149 0.52999997139\n",
      "1.94122171402 0.579999983311\n",
      "1.92951929569 0.550000011921\n",
      "1.97660911083 0.509999990463\n",
      "1.95280265808 0.509999990463\n",
      "1.89582788944 0.560000002384\n",
      "1.88906311989 0.569999992847\n",
      "1.85073530674 0.639999985695\n",
      "1.84229850769 0.639999985695\n",
      "1.83939194679 0.620000004768\n",
      "1.81238877773 0.639999985695\n",
      "1.84981012344 0.639999985695\n",
      "1.79050278664 0.670000016689\n",
      "1.81151938438 0.689999997616\n",
      "1.77109396458 0.699999988079\n",
      "1.72652387619 0.740000009537\n",
      "1.75305342674 0.709999978542\n",
      "1.79587507248 0.699999988079\n",
      "1.75182390213 0.709999978542\n",
      "1.71861898899 0.75\n",
      "1.77836453915 0.680000007153\n",
      "1.76798009872 0.72000002861\n",
      "1.7770216465 0.699999988079\n",
      "1.73880434036 0.730000019073\n",
      "1.71265923977 0.759999990463\n",
      "1.72018814087 0.75\n",
      "1.72059714794 0.72000002861\n",
      "1.70777523518 0.759999990463\n",
      "1.76172757149 0.699999988079\n",
      "1.7797755003 0.680000007153\n",
      "1.73736763 0.709999978542\n",
      "1.71262526512 0.759999990463\n",
      "1.710054636 0.740000009537\n",
      "1.69704306126 0.759999990463\n",
      "1.71387338638 0.75\n",
      "1.74371004105 0.709999978542\n",
      "1.70324194431 0.769999980927\n",
      "1.7227807045 0.730000019073\n",
      "1.71427583694 0.72000002861\n",
      "1.70792710781 0.759999990463\n",
      "1.77753722668 0.699999988079\n",
      "1.68956434727 0.769999980927\n",
      "1.66983807087 0.800000011921\n",
      "1.68474256992 0.77999997139\n",
      "1.76770758629 0.689999997616\n",
      "1.72301506996 0.709999978542\n",
      "1.72910010815 0.75\n",
      "1.66194665432 0.790000021458\n",
      "1.74207437038 0.72000002861\n",
      "1.75427007675 0.709999978542\n",
      "1.66724479198 0.800000011921\n",
      "1.72101640701 0.769999980927\n",
      "1.73029243946 0.730000019073\n",
      "1.72462332249 0.75\n",
      "1.69704711437 0.759999990463\n",
      "1.69144105911 0.790000021458\n",
      "1.58653664589 0.879999995232\n",
      "1.68061447144 0.790000021458\n",
      "1.65971660614 0.829999983311\n",
      "1.68961560726 0.769999980927\n",
      "1.6558599472 0.819999992847\n",
      "1.67009270191 0.819999992847\n",
      "1.71914863586 0.740000009537\n",
      "1.71257889271 0.740000009537\n",
      "1.72057008743 0.75\n",
      "1.67192900181 0.810000002384\n",
      "1.64141750336 0.829999983311\n",
      "1.66331291199 0.800000011921\n",
      "1.63334655762 0.839999973774\n",
      "1.68904781342 0.800000011921\n",
      "1.6524977684 0.819999992847\n",
      "1.67343962193 0.800000011921\n",
      "1.67945671082 0.77999997139\n",
      "1.6502790451 0.839999973774\n",
      "1.64194023609 0.829999983311\n",
      "1.64940917492 0.810000002384\n",
      "1.6205303669 0.850000023842\n",
      "1.70596909523 0.740000009537\n",
      "1.63884186745 0.819999992847\n",
      "1.58457970619 0.879999995232\n",
      "1.59477508068 0.850000023842\n",
      "1.61697149277 0.870000004768\n",
      "1.62859106064 0.850000023842\n",
      "1.60487639904 0.850000023842\n",
      "1.63539791107 0.819999992847\n",
      "1.64234030247 0.850000023842\n",
      "1.60984396935 0.870000004768\n",
      "1.63393068314 0.819999992847\n",
      "1.60195600986 0.860000014305\n",
      "1.62728464603 0.850000023842\n",
      "1.63829910755 0.829999983311\n",
      "1.5968568325 0.870000004768\n",
      "1.61703467369 0.829999983311\n",
      "1.61951506138 0.850000023842\n",
      "1.63128221035 0.819999992847\n",
      "1.60338485241 0.879999995232\n",
      "1.6025390625 0.860000014305\n",
      "1.59161245823 0.879999995232\n",
      "1.6189211607 0.829999983311\n",
      "1.59416162968 0.870000004768\n",
      "1.56284964085 0.899999976158\n",
      "1.55623435974 0.910000026226\n",
      "1.61133575439 0.870000004768\n",
      "1.58014750481 0.899999976158\n",
      "1.61175334454 0.850000023842\n",
      "1.62146019936 0.829999983311\n",
      "1.58980882168 0.889999985695\n",
      "1.62351250648 0.839999973774\n",
      "1.59758663177 0.850000023842\n",
      "1.59478783607 0.889999985695\n",
      "1.60492289066 0.860000014305\n",
      "1.62598359585 0.850000023842\n",
      "1.50609052181 0.97000002861\n",
      "1.64378273487 0.810000002384\n",
      "1.57702612877 0.889999985695\n",
      "1.54198908806 0.920000016689\n",
      "1.63090980053 0.829999983311\n",
      "1.58408141136 0.889999985695\n",
      "1.59677994251 0.860000014305\n",
      "1.57861196995 0.910000026226\n",
      "1.62021505833 0.860000014305\n",
      "1.64477539062 0.810000002384\n",
      "1.61219251156 0.850000023842\n",
      "1.57451212406 0.879999995232\n",
      "1.56708717346 0.920000016689\n",
      "1.58800554276 0.870000004768\n",
      "1.54675042629 0.939999997616\n",
      "1.60690224171 0.870000004768\n",
      "1.60434234142 0.860000014305\n",
      "1.55783188343 0.930000007153\n",
      "1.538372159 0.939999997616\n",
      "1.60661661625 0.860000014305\n",
      "1.56378304958 0.910000026226\n",
      "1.58662378788 0.889999985695\n",
      "1.62212717533 0.819999992847\n",
      "1.58223938942 0.899999976158\n",
      "1.58597898483 0.889999985695\n",
      "1.5608189106 0.920000016689\n",
      "1.5706744194 0.889999985695\n",
      "1.61054253578 0.850000023842\n",
      "1.6203649044 0.850000023842\n",
      "1.56098198891 0.920000016689\n",
      "1.56592464447 0.889999985695\n",
      "1.55552864075 0.920000016689\n",
      "1.53868532181 0.930000007153\n",
      "1.56607449055 0.910000026226\n",
      "1.60799872875 0.860000014305\n",
      "1.581579566 0.889999985695\n",
      "1.55048370361 0.910000026226\n",
      "1.52724683285 0.939999997616\n",
      "1.59118402004 0.879999995232\n",
      "1.54683804512 0.920000016689\n",
      "1.57390570641 0.899999976158\n",
      "1.54741096497 0.930000007153\n",
      "1.55797624588 0.910000026226\n",
      "1.53279709816 0.949999988079\n",
      "1.58312237263 0.889999985695\n",
      "1.61748933792 0.850000023842\n",
      "1.54061508179 0.920000016689\n",
      "1.63013648987 0.839999973774\n",
      "1.52511382103 0.930000007153\n",
      "1.51398658752 0.959999978542\n",
      "1.54743921757 0.930000007153\n",
      "1.5208953619 0.939999997616\n",
      "1.51534461975 0.959999978542\n",
      "1.55673444271 0.910000026226\n",
      "1.58633923531 0.870000004768\n",
      "1.55464935303 0.910000026226\n",
      "1.57229506969 0.889999985695\n",
      "1.51926422119 0.949999988079\n",
      "1.54358351231 0.920000016689\n",
      "1.56864070892 0.910000026226\n",
      "1.51462447643 0.959999978542\n",
      "1.5428866148 0.920000016689\n",
      "1.5305018425 0.949999988079\n",
      "1.54828345776 0.910000026226\n",
      "1.53052711487 0.939999997616\n",
      "1.55752968788 0.910000026226\n",
      "1.53362381458 0.939999997616\n",
      "1.58557522297 0.879999995232\n",
      "1.54370927811 0.920000016689\n",
      "1.55842590332 0.899999976158\n",
      "1.56228792667 0.910000026226\n",
      "1.56135010719 0.910000026226\n",
      "1.56385314465 0.910000026226\n",
      "1.54071593285 0.930000007153\n",
      "1.56605577469 0.889999985695\n",
      "1.58076393604 0.889999985695\n",
      "1.56195902824 0.899999976158\n",
      "1.59103250504 0.870000004768\n",
      "1.55078804493 0.910000026226\n",
      "1.55572259426 0.899999976158\n",
      "1.56147515774 0.910000026226\n",
      "1.59140026569 0.870000004768\n",
      "1.53151977062 0.939999997616\n",
      "1.49668228626 0.980000019073\n",
      "1.49844992161 0.980000019073\n",
      "1.62533950806 0.839999973774\n",
      "1.49424684048 0.980000019073\n",
      "1.51664102077 0.959999978542\n",
      "1.51288878918 0.939999997616\n",
      "1.53655600548 0.920000016689\n",
      "1.52442991734 0.939999997616\n",
      "1.5694051981 0.899999976158\n",
      "1.52018892765 0.949999988079\n",
      "1.56072556973 0.899999976158\n",
      "1.53953552246 0.910000026226\n",
      "1.58455073833 0.879999995232\n",
      "1.51311385632 0.959999978542\n",
      "1.56442964077 0.899999976158\n",
      "1.56443047523 0.899999976158\n",
      "1.57666730881 0.889999985695\n",
      "1.55981349945 0.899999976158\n",
      "1.559491992 0.910000026226\n",
      "1.55456566811 0.899999976158\n",
      "1.59859549999 0.879999995232\n",
      "1.52888441086 0.939999997616\n",
      "1.52906394005 0.939999997616\n",
      "1.54590940475 0.920000016689\n",
      "1.56946718693 0.899999976158\n",
      "1.54827964306 0.930000007153\n",
      "1.55324399471 0.920000016689\n",
      "1.54493284225 0.910000026226\n",
      "1.54549241066 0.920000016689\n",
      "1.55555033684 0.910000026226\n",
      "1.54231703281 0.910000026226\n",
      "1.55489909649 0.910000026226\n",
      "1.52045786381 0.949999988079\n",
      "1.55239331722 0.910000026226\n",
      "1.57473671436 0.899999976158\n",
      "1.5247451067 0.949999988079\n",
      "1.51010143757 0.959999978542\n",
      "1.5355900526 0.939999997616\n",
      "1.52070724964 0.939999997616\n",
      "1.52225995064 0.939999997616\n",
      "1.53361701965 0.920000016689\n",
      "1.54892754555 0.920000016689\n",
      "1.59350991249 0.860000014305\n",
      "1.5336779356 0.930000007153\n",
      "1.54459488392 0.930000007153\n",
      "1.52537024021 0.939999997616\n",
      "1.56483912468 0.920000016689\n",
      "1.56160962582 0.910000026226\n",
      "1.53283596039 0.939999997616\n",
      "1.5219835043 0.949999988079\n",
      "1.49680328369 0.980000019073\n",
      "1.52337515354 0.949999988079\n",
      "1.6178753376 0.850000023842\n",
      "1.54663097858 0.910000026226\n",
      "1.52982413769 0.930000007153\n",
      "1.56820368767 0.910000026226\n",
      "1.50923645496 0.949999988079\n",
      "1.5538892746 0.910000026226\n",
      "1.5365049839 0.939999997616\n",
      "1.50259256363 0.97000002861\n",
      "1.57630753517 0.879999995232\n",
      "1.55675458908 0.910000026226\n",
      "1.55791759491 0.899999976158\n",
      "1.5730009079 0.899999976158\n",
      "1.48985993862 0.990000009537\n",
      "1.55616593361 0.910000026226\n",
      "1.53528344631 0.930000007153\n",
      "1.51318800449 0.949999988079\n",
      "1.51561510563 0.939999997616\n",
      "1.53279435635 0.930000007153\n",
      "1.54113352299 0.930000007153\n",
      "1.56043362617 0.899999976158\n",
      "1.54201936722 0.910000026226\n",
      "1.51211702824 0.959999978542\n",
      "1.55492460728 0.910000026226\n",
      "1.56221628189 0.889999985695\n",
      "1.55342388153 0.920000016689\n",
      "1.52732825279 0.949999988079\n",
      "1.51463484764 0.949999988079\n",
      "1.51005351543 0.959999978542\n",
      "1.51389944553 0.959999978542\n",
      "1.52912926674 0.920000016689\n"
     ]
    },
    {
     "name": "stdout",
     "output_type": "stream",
     "text": [
      "1.53611433506 0.930000007153\n",
      "1.52189815044 0.939999997616\n",
      "1.53283429146 0.920000016689\n",
      "1.5405279398 0.920000016689\n",
      "1.53499686718 0.930000007153\n",
      "1.52027106285 0.949999988079\n",
      "1.5315309763 0.930000007153\n",
      "1.50867521763 0.959999978542\n",
      "1.51734399796 0.949999988079\n",
      "1.5645506382 0.899999976158\n",
      "1.55480861664 0.910000026226\n",
      "1.48750650883 0.980000019073\n",
      "1.53474485874 0.930000007153\n",
      "1.53031384945 0.930000007153\n",
      "1.49882519245 0.97000002861\n",
      "1.57502043247 0.889999985695\n",
      "1.52419185638 0.939999997616\n",
      "1.52486205101 0.939999997616\n",
      "1.53211939335 0.930000007153\n",
      "1.54613435268 0.920000016689\n",
      "1.52081537247 0.939999997616\n",
      "1.50100946426 0.959999978542\n",
      "1.53137671947 0.930000007153\n",
      "1.51331984997 0.949999988079\n",
      "1.4903806448 0.980000019073\n",
      "1.49693512917 0.97000002861\n",
      "1.54417979717 0.920000016689\n",
      "1.50306022167 0.959999978542\n",
      "1.51548087597 0.949999988079\n",
      "1.54033362865 0.920000016689\n",
      "1.51669096947 0.949999988079\n",
      "1.54549586773 0.930000007153\n",
      "1.5452684164 0.910000026226\n",
      "1.50330102444 0.97000002861\n",
      "1.49984693527 0.959999978542\n",
      "1.53216457367 0.930000007153\n",
      "1.53674256802 0.930000007153\n",
      "1.52861702442 0.939999997616\n",
      "1.49380385876 0.97000002861\n",
      "1.52226054668 0.920000016689\n",
      "1.56019616127 0.910000026226\n",
      "1.51706886292 0.959999978542\n",
      "1.54720032215 0.920000016689\n",
      "1.5155673027 0.949999988079\n",
      "1.52111184597 0.949999988079\n",
      "1.51011168957 0.97000002861\n",
      "1.56610178947 0.889999985695\n",
      "1.5185546875 0.939999997616\n",
      "1.54377758503 0.930000007153\n",
      "1.49964678288 0.959999978542\n",
      "1.52815878391 0.939999997616\n",
      "1.51560842991 0.949999988079\n",
      "1.47778856754 0.990000009537\n",
      "1.54160916805 0.920000016689\n",
      "1.54278290272 0.930000007153\n",
      "1.56056511402 0.910000026226\n",
      "1.52420210838 0.939999997616\n",
      "1.5329618454 0.930000007153\n",
      "1.51040565968 0.949999988079\n",
      "1.51385247707 0.949999988079\n",
      "1.50321555138 0.949999988079\n",
      "1.47880613804 0.990000009537\n",
      "1.50267422199 0.97000002861\n",
      "1.51549124718 0.949999988079\n",
      "1.52524757385 0.930000007153\n",
      "1.53575921059 0.930000007153\n",
      "1.53077864647 0.930000007153\n",
      "1.53704583645 0.920000016689\n",
      "1.55225527287 0.899999976158\n",
      "1.5465952158 0.910000026226\n",
      "1.52580749989 0.939999997616\n",
      "1.55340921879 0.910000026226\n",
      "1.50317215919 0.959999978542\n",
      "1.51663649082 0.949999988079\n",
      "1.55061721802 0.910000026226\n",
      "1.50963509083 0.959999978542\n",
      "1.53143334389 0.930000007153\n",
      "1.50496959686 0.959999978542\n",
      "1.50936639309 0.949999988079\n",
      "1.57354581356 0.879999995232\n",
      "1.58609366417 0.870000004768\n",
      "1.50992870331 0.959999978542\n",
      "1.53855419159 0.930000007153\n",
      "1.5230910778 0.939999997616\n",
      "1.53050804138 0.939999997616\n",
      "1.52321028709 0.939999997616\n",
      "1.49500846863 0.959999978542\n",
      "1.52931427956 0.930000007153\n",
      "1.50529563427 0.97000002861\n",
      "1.52091670036 0.939999997616\n",
      "1.53620147705 0.930000007153\n",
      "1.54746794701 0.910000026226\n",
      "1.50751233101 0.949999988079\n",
      "1.52802062035 0.939999997616\n",
      "1.56091964245 0.899999976158\n",
      "1.54483032227 0.920000016689\n",
      "1.53363549709 0.939999997616\n",
      "1.49028098583 0.980000019073\n",
      "1.50794649124 0.949999988079\n",
      "1.48295724392 0.980000019073\n",
      "1.5095051527 0.959999978542\n",
      "1.50931191444 0.959999978542\n",
      "1.52584302425 0.939999997616\n",
      "1.52337491512 0.949999988079\n",
      "1.50179374218 0.97000002861\n",
      "1.51968932152 0.939999997616\n",
      "1.52650010586 0.939999997616\n",
      "1.52337169647 0.930000007153\n",
      "1.51086783409 0.97000002861\n",
      "1.53652465343 0.930000007153\n",
      "1.49463248253 0.959999978542\n",
      "1.52974450588 0.920000016689\n",
      "1.48445618153 0.980000019073\n",
      "1.48888623714 0.97000002861\n",
      "1.55285978317 0.899999976158\n",
      "1.53186142445 0.930000007153\n",
      "1.52760648727 0.930000007153\n",
      "1.53104865551 0.930000007153\n",
      "1.51469171047 0.949999988079\n",
      "1.54137909412 0.920000016689\n",
      "1.49432396889 0.980000019073\n",
      "1.52602350712 0.930000007153\n",
      "1.50704431534 0.959999978542\n",
      "1.52832388878 0.920000016689\n",
      "1.54721581936 0.920000016689\n",
      "1.53400433064 0.930000007153\n",
      "1.51966774464 0.949999988079\n",
      "1.50609326363 0.959999978542\n",
      "1.52976989746 0.930000007153\n",
      "1.51738798618 0.949999988079\n",
      "1.51404166222 0.949999988079\n",
      "1.56050395966 0.899999976158\n",
      "1.50443613529 0.97000002861\n",
      "1.48873806 0.980000019073\n",
      "1.51869857311 0.939999997616\n",
      "1.53675997257 0.930000007153\n",
      "1.50266134739 0.959999978542\n",
      "1.5475730896 0.920000016689\n",
      "1.49320173264 0.97000002861\n",
      "1.52249479294 0.939999997616\n",
      "1.49334728718 0.97000002861\n",
      "1.49446737766 0.97000002861\n",
      "1.49851453304 0.97000002861\n",
      "1.51990365982 0.939999997616\n",
      "1.55668413639 0.910000026226\n",
      "1.51655447483 0.949999988079\n",
      "1.57260978222 0.910000026226\n",
      "1.52433240414 0.939999997616\n",
      "1.51650202274 0.949999988079\n",
      "1.53838539124 0.930000007153\n",
      "1.49604904652 0.97000002861\n",
      "1.48691236973 0.980000019073\n",
      "1.49237060547 0.980000019073\n",
      "1.49860346317 0.959999978542\n",
      "1.53833794594 0.930000007153\n",
      "1.54391562939 0.910000026226\n",
      "1.51940608025 0.930000007153\n",
      "1.53642272949 0.939999997616\n",
      "1.49798750877 0.97000002861\n",
      "1.49798166752 0.97000002861\n",
      "1.51494503021 0.959999978542\n",
      "1.50710749626 0.949999988079\n",
      "1.51066660881 0.949999988079\n",
      "1.54940080643 0.899999976158\n",
      "1.49580454826 0.97000002861\n",
      "1.51419341564 0.949999988079\n",
      "1.48786556721 0.97000002861\n",
      "1.52600598335 0.939999997616\n",
      "1.51417779922 0.939999997616\n",
      "1.50289177895 0.959999978542\n",
      "1.51739346981 0.939999997616\n",
      "1.50050759315 0.959999978542\n",
      "1.54789984226 0.910000026226\n",
      "1.50281608105 0.97000002861\n",
      "1.5391112566 0.930000007153\n",
      "1.53645098209 0.930000007153\n",
      "1.51333451271 0.959999978542\n",
      "1.51658523083 0.930000007153\n",
      "1.53574323654 0.930000007153\n",
      "1.50628602505 0.959999978542\n",
      "1.52639782429 0.930000007153\n",
      "1.49021148682 0.97000002861\n",
      "1.50488340855 0.959999978542\n",
      "1.51417374611 0.949999988079\n",
      "1.49056696892 0.97000002861\n",
      "1.51910257339 0.949999988079\n",
      "1.49483931065 0.97000002861\n",
      "1.50136017799 0.959999978542\n",
      "1.54341518879 0.910000026226\n",
      "1.50236213207 0.959999978542\n",
      "1.50300073624 0.959999978542\n",
      "1.5404497385 0.930000007153\n",
      "1.52783119678 0.939999997616\n",
      "1.53008508682 0.930000007153\n",
      "1.53099954128 0.930000007153\n",
      "1.48625946045 0.990000009537\n",
      "1.53783631325 0.930000007153\n",
      "1.49489295483 0.97000002861\n",
      "1.48997926712 0.980000019073\n",
      "1.50952160358 0.959999978542\n",
      "1.52364206314 0.939999997616\n",
      "1.53801119328 0.930000007153\n",
      "1.51505076885 0.949999988079\n",
      "1.49787962437 0.959999978542\n",
      "1.52223718166 0.939999997616\n",
      "1.515858531 0.949999988079\n",
      "1.4905320406 0.97000002861\n",
      "1.48909127712 0.980000019073\n",
      "1.48330545425 0.980000019073\n",
      "1.48128902912 0.980000019073\n",
      "1.50114357471 0.959999978542\n",
      "1.52112436295 0.959999978542\n",
      "1.50214016438 0.959999978542\n",
      "1.51995623112 0.939999997616\n",
      "1.50438809395 0.949999988079\n",
      "1.49596703053 0.97000002861\n",
      "1.48493480682 0.990000009537\n",
      "1.52273607254 0.939999997616\n",
      "1.52323913574 0.939999997616\n",
      "1.52051520348 0.939999997616\n",
      "1.5386582613 0.920000016689\n",
      "1.51418280602 0.939999997616\n",
      "1.54964911938 0.910000026226\n",
      "1.51249217987 0.959999978542\n",
      "1.50347924232 0.959999978542\n",
      "1.49397814274 0.97000002861\n",
      "1.51231837273 0.949999988079\n",
      "1.50326478481 0.959999978542\n",
      "1.54721343517 0.899999976158\n",
      "1.49476349354 0.97000002861\n",
      "1.52660799026 0.930000007153\n",
      "1.49275779724 0.980000019073\n",
      "1.52219307423 0.939999997616\n",
      "1.50040519238 0.959999978542\n",
      "1.52307617664 0.939999997616\n",
      "1.50651681423 0.949999988079\n",
      "1.52108561993 0.930000007153\n",
      "1.4988591671 0.97000002861\n",
      "1.50648581982 0.959999978542\n",
      "1.54732370377 0.920000016689\n",
      "1.50597023964 0.959999978542\n",
      "1.52634370327 0.930000007153\n",
      "1.48340582848 0.980000019073\n",
      "1.531214118 0.930000007153\n",
      "1.51278555393 0.97000002861\n",
      "1.50059890747 0.959999978542\n",
      "1.51929271221 0.939999997616\n",
      "1.49520349503 0.97000002861\n",
      "1.53451347351 0.930000007153\n",
      "1.53065025806 0.939999997616\n",
      "1.47810912132 0.990000009537\n",
      "1.54411482811 0.920000016689\n",
      "1.55326640606 0.910000026226\n",
      "1.49309051037 0.97000002861\n",
      "1.53135037422 0.930000007153\n",
      "1.51513624191 0.949999988079\n",
      "1.5274605751 0.930000007153\n",
      "1.4848626852 0.980000019073\n",
      "1.51150429249 0.949999988079\n",
      "1.49707245827 0.97000002861\n",
      "1.51834821701 0.939999997616\n",
      "1.48208296299 0.990000009537\n",
      "1.51442182064 0.939999997616\n",
      "1.50662779808 0.949999988079\n",
      "1.49630141258 0.97000002861\n",
      "1.54897463322 0.910000026226\n",
      "1.50193727016 0.959999978542\n",
      "1.50536239147 0.959999978542\n",
      "1.50306642056 0.949999988079\n",
      "1.48832368851 0.97000002861\n",
      "1.49893569946 0.97000002861\n",
      "1.4948759079 0.959999978542\n",
      "1.55464017391 0.899999976158\n",
      "1.50642549992 0.959999978542\n",
      "1.50114381313 0.97000002861\n",
      "1.48806941509 0.97000002861\n",
      "1.50817024708 0.949999988079\n",
      "1.48880732059 0.97000002861\n",
      "1.46769440174 1.0\n",
      "1.49771404266 0.959999978542\n",
      "1.54624640942 0.920000016689\n",
      "1.47631812096 0.990000009537\n",
      "1.53519976139 0.939999997616\n",
      "1.51873838902 0.939999997616\n",
      "1.48945343494 0.980000019073\n",
      "1.5384554863 0.920000016689\n"
     ]
    },
    {
     "name": "stdout",
     "output_type": "stream",
     "text": [
      "1.50252759457 0.97000002861\n",
      "1.49852287769 0.97000002861\n",
      "1.53365683556 0.930000007153\n",
      "1.52181875706 0.939999997616\n",
      "1.54625225067 0.910000026226\n",
      "1.52774071693 0.939999997616\n",
      "1.53783845901 0.930000007153\n",
      "1.52665066719 0.939999997616\n",
      "1.50171899796 0.959999978542\n",
      "1.48703563213 0.980000019073\n",
      "1.53918778896 0.920000016689\n",
      "1.49999344349 0.959999978542\n",
      "1.49969649315 0.959999978542\n",
      "1.50780844688 0.949999988079\n",
      "1.50936937332 0.949999988079\n",
      "1.4746825695 0.990000009537\n",
      "1.52383506298 0.939999997616\n",
      "1.50024485588 0.959999978542\n",
      "1.53209149837 0.930000007153\n",
      "1.51346969604 0.949999988079\n",
      "1.52778196335 0.930000007153\n",
      "1.49569869041 0.97000002861\n",
      "1.51353728771 0.949999988079\n",
      "1.49989449978 0.959999978542\n",
      "1.52063560486 0.939999997616\n",
      "1.51801455021 0.949999988079\n",
      "1.51504361629 0.939999997616\n"
     ]
    }
   ],
   "source": [
    "model = L.Classifier(MLP(), lossfun = F.softmax_cross_entropy)\n",
    "optimizer = chainer.optimizers.Adam()\n",
    "optimizer.setup(model)\n",
    "train_iter = chainer.iterators.SerialIterator(traning_dataset[:samples], batchsize, repeat=False, shuffle=True)\n",
    "test_iter = chainer.iterators.SerialIterator(test_dataset, batchsize,\n",
    "                                                 repeat=False, shuffle=False)\n",
    "model.cleargrads()\n",
    "loss = []\n",
    "acc = []\n",
    "for x in train_iter:\n",
    "    #print type(x)  x is a list\n",
    "    x, t = concat_examples(x, -1)\n",
    "    # print type(x[0]) x[0] is ndarray\n",
    "    # print type(t[0]) type is numpy.uint8\n",
    "    t = t.astype(np.int32)\n",
    "    #print type(t[0]) type is int32    \n",
    "    #plotSet(x,t)\n",
    "    x = chainer.Variable(x)\n",
    "    t = chainer.Variable(t)\n",
    "    optimizer.update(model, x, t)\n",
    "    print model.loss.data, model.accuracy.data\n",
    "    loss.append(model.loss.data)\n",
    "    acc.append(model.accuracy.data)\n",
    "    \n"
   ]
  },
  {
   "cell_type": "code",
   "execution_count": 212,
   "metadata": {
    "collapsed": true
   },
   "outputs": [],
   "source": [
    "def plot_loss_accuracy(loss, acc) :\n",
    "    niter = len(loss)\n",
    "    fig = plt.figure(figsize=(12, 7))\n",
    "    ax1 = fig.add_subplot(111)\n",
    "    ax2 = ax1.twinx()\n",
    "    ax1.plot(range(niter), loss, 'r-',label= \"loss_train\",alpha=0.4)\n",
    "    ax2.plot(range(niter), acc, 'b-',label= \"acc_train\",alpha=0.7)\n",
    "    ax1.set_ylim([0,2.5])\n",
    "    ax1.set_xlabel('iteration')\n",
    "    ax1.set_ylabel('loss')\n",
    "    ax2.set_ylabel('accuracy')\n",
    "\n",
    "    ax2.set_ylim([0,1])\n",
    "    ax1.legend(loc='lower left')\n",
    "    ax2.legend(loc='lower right')\n",
    "    ax1.minorticks_on()\n",
    "    ax1.grid(which=\"both\")\n",
    "     "
   ]
  },
  {
   "cell_type": "code",
   "execution_count": 213,
   "metadata": {},
   "outputs": [
    {
     "data": {
      "image/png": "[encoded data removed]",
      "text/plain": [
       "<matplotlib.figure.Figure at 0x7f42447daed0>"
      ]
     },
     "metadata": {},
     "output_type": "display_data"
    }
   ],
   "source": [
    "plot_loss_accuracy(loss,acc)"
   ]
  },
  {
   "cell_type": "code",
   "execution_count": 152,
   "metadata": {
    "collapsed": true
   },
   "outputs": [],
   "source": [
    "def decodeNum(x):\n",
    "    i = []\n",
    "    for xi in x:\n",
    "        ni = np.argmax(xi)\n",
    "        i.append(ni)\n",
    "    return i"
   ]
  },
  {
   "cell_type": "markdown",
   "metadata": {},
   "source": [
    "## 5. Predictions"
   ]
  },
  {
   "cell_type": "code",
   "execution_count": 182,
   "metadata": {
    "scrolled": false
   },
   "outputs": [
    {
     "name": "stdout",
     "output_type": "stream",
     "text": [
      "6 ≠ 5\n",
      "6 ≠ 4\n",
      "8 ≠ 5\n",
      "3 ≠ 1\n",
      "3 ≠ 5\n",
      "0 ≠ 2\n",
      "7 ≠ 9\n",
      "7 ≠ 2\n",
      "7 ≠ 9\n",
      "9 ≠ 7\n",
      "4 ≠ 8\n",
      "4 ≠ 9\n",
      "8 ≠ 1\n",
      "3 ≠ 1\n"
     ]
    },
    {
     "data": {
      "image/png": "[encoded data removed]",
      "text/plain": [
       "<matplotlib.figure.Figure at 0x7f4214049210>"
      ]
     },
     "metadata": {},
     "output_type": "display_data"
    },
    {
     "data": {
      "image/png": "[encoded data removed]",
      "text/plain": [
       "<matplotlib.figure.Figure at 0x7f4216bce610>"
      ]
     },
     "metadata": {},
     "output_type": "display_data"
    },
    {
     "data": {
      "image/png": "[encoded data removed]",
      "text/plain": [
       "<matplotlib.figure.Figure at 0x7f4211b1e110>"
      ]
     },
     "metadata": {},
     "output_type": "display_data"
    },
    {
     "data": {
      "image/png": "[encoded data removed]",
      "text/plain": [
       "<matplotlib.figure.Figure at 0x7f4243f180d0>"
      ]
     },
     "metadata": {},
     "output_type": "display_data"
    },
    {
     "data": {
      "image/png": "[encoded data removed]",
      "text/plain": [
       "<matplotlib.figure.Figure at 0x7f42424db810>"
      ]
     },
     "metadata": {},
     "output_type": "display_data"
    },
    {
     "data": {
      "image/png": "[encoded data removed]",
      "text/plain": [
       "<matplotlib.figure.Figure at 0x7f42443ec850>"
      ]
     },
     "metadata": {},
     "output_type": "display_data"
    },
    {
     "data": {
      "image/png": "[encoded data removed]",
      "text/plain": [
       "<matplotlib.figure.Figure at 0x7f4213f15b90>"
      ]
     },
     "metadata": {},
     "output_type": "display_data"
    },
    {
     "data": {
      "image/png": "[encoded data removed]",
      "text/plain": [
       "<matplotlib.figure.Figure at 0x7f4213effd90>"
      ]
     },
     "metadata": {},
     "output_type": "display_data"
    },
    {
     "data": {
      "image/png": "[encoded data removed]",
      "text/plain": [
       "<matplotlib.figure.Figure at 0x7f42522ab090>"
      ]
     },
     "metadata": {},
     "output_type": "display_data"
    },
    {
     "data": {
      "image/png": "[encoded data removed]",
      "text/plain": [
       "<matplotlib.figure.Figure at 0x7f42425a7450>"
      ]
     },
     "metadata": {},
     "output_type": "display_data"
    },
    {
     "data": {
      "image/png": "[encoded data removed]",
      "text/plain": [
       "<matplotlib.figure.Figure at 0x7f4244099450>"
      ]
     },
     "metadata": {},
     "output_type": "display_data"
    },
    {
     "data": {
      "image/png": "[encoded data removed]",
      "text/plain": [
       "<matplotlib.figure.Figure at 0x7f4218261d50>"
      ]
     },
     "metadata": {},
     "output_type": "display_data"
    },
    {
     "data": {
      "image/png": "[encoded data removed]",
      "text/plain": [
       "<matplotlib.figure.Figure at 0x7f4241cb4490>"
      ]
     },
     "metadata": {},
     "output_type": "display_data"
    },
    {
     "data": {
      "image/png": "[encoded data removed]",
      "text/plain": [
       "<matplotlib.figure.Figure at 0x7f4221d55810>"
      ]
     },
     "metadata": {},
     "output_type": "display_data"
    },
    {
     "data": {
      "image/png": "[encoded data removed]",
      "text/plain": [
       "<matplotlib.figure.Figure at 0x7f42442b0290>"
      ]
     },
     "metadata": {},
     "output_type": "display_data"
    }
   ],
   "source": [
    "x = X_test[:batchsize]\n",
    "t = y_test[:batchsize]\n",
    "\n",
    "y = model.predictor(x)\n",
    "y = y.data\n",
    "# y has predictions as probabilities\n",
    "h = np.asarray(decodeNum(y))\n",
    "# h has predictions as numbers\n",
    "\n",
    "errors = []\n",
    "for i in range(len(h)):\n",
    "    if h[i] != t[i]:        \n",
    "        errors.append(i)\n",
    "\n",
    "# errors has indexes of incorrect redictions\n",
    "for i in errors:\n",
    "    print h[i],\"≠\", t[i]\n",
    "\n",
    "# plot images and predictions (incorrect)\n",
    "plotSet(x[errors],h[errors])\n",
    "\n",
    "# Plot probabilities\n",
    "y_err = y[errors]\n",
    "for i in range(len(y_err)):\n",
    "    fig = plt.figure()\n",
    "    plt.bar(range(len(y_err[i])), y_err[i])"
   ]
  },
  {
   "cell_type": "code",
   "execution_count": null,
   "metadata": {
    "collapsed": true
   },
   "outputs": [],
   "source": []
  }
 ],
 "metadata": {
  "kernelspec": {
   "display_name": "Python 2",
   "language": "python",
   "name": "python2"
  },
  "language_info": {
   "codemirror_mode": {
    "name": "ipython",
    "version": 2
   },
   "file_extension": ".py",
   "mimetype": "text/x-python",
   "name": "python",
   "nbconvert_exporter": "python",
   "pygments_lexer": "ipython2",
   "version": "2.7.9"
  }
 },
 "nbformat": 4,
 "nbformat_minor": 2
}
