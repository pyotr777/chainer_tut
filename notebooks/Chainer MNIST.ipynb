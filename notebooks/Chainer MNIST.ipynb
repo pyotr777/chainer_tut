{
 "cells": [
  {
   "cell_type": "markdown",
   "metadata": {},
   "source": [
    "# Chainer MNIST tutorial\n",
    "\n",
    "http://docs.chainer.org/en/latest/tutorial/basic.html#example-multi-layer-perceptron-on-mnist"
   ]
  },
  {
   "cell_type": "markdown",
   "metadata": {},
   "source": [
    "### Use model from Keras tutorial\n",
    "\n",
    "https://elitedatascience.com/keras-tutorial-deep-learning-in-python"
   ]
  },
  {
   "cell_type": "code",
   "execution_count": 1,
   "metadata": {
    "collapsed": true
   },
   "outputs": [],
   "source": [
    "from matplotlib import pyplot as plt\n",
    "%matplotlib inline\n",
    "\n",
    "import chainer\n",
    "import chainer.functions as F\n",
    "import chainer.links as L\n",
    "from chainer import training\n",
    "from chainer.training import extensions"
   ]
  },
  {
   "cell_type": "code",
   "execution_count": 2,
   "metadata": {
    "collapsed": true
   },
   "outputs": [],
   "source": [
    "import numpy as np\n",
    "np.random.seed(123)  # for reproducibility"
   ]
  },
  {
   "cell_type": "markdown",
   "metadata": {},
   "source": [
    "### Load MNIST dataset"
   ]
  },
  {
   "cell_type": "code",
   "execution_count": 3,
   "metadata": {
    "collapsed": true
   },
   "outputs": [],
   "source": [
    "import os\n",
    "from urllib import urlretrieve\n",
    "\n",
    "def download(filename, source='http://yann.lecun.com/exdb/mnist/'):\n",
    "    print(\"Downloading %s\" % filename)\n",
    "    urlretrieve(source + filename, filename)\n",
    "\n",
    "# We then define functions for loading MNIST images and labels.\n",
    "# For convenience, they also download the requested files if needed.\n",
    "import gzip\n",
    "\n",
    "def load_mnist_images(filename):\n",
    "    if not os.path.exists(filename):\n",
    "        download(filename)\n",
    "    # Read the inputs in Yann LeCun's binary format.\n",
    "    with gzip.open(filename, 'rb') as f:\n",
    "        data = np.frombuffer(f.read(), np.uint8, offset=16)\n",
    "    # The inputs are vectors now, we reshape them to monochrome 2D images,\n",
    "    # following the shape convention: (examples, channels, rows, columns)\n",
    "    data = data.reshape(-1, 1, 28, 28)\n",
    "    # The inputs come as bytes, we convert them to float32 in range [0,1].\n",
    "    # (Actually to range [0, 255/256], for compatibility to the version\n",
    "    # provided at http://deeplearning.net/data/mnist/mnist.pkl.gz.)\n",
    "    return data / np.float32(256)\n",
    "\n",
    "def load_mnist_labels(filename):\n",
    "    if not os.path.exists(filename):\n",
    "        download(filename)\n",
    "    # Read the labels in Yann LeCun's binary format.\n",
    "    with gzip.open(filename, 'rb') as f:\n",
    "        data = np.frombuffer(f.read(), np.uint8, offset=8)\n",
    "    # The labels are vectors of integers now, that's exactly what we want.\n",
    "    return data"
   ]
  },
  {
   "cell_type": "code",
   "execution_count": 4,
   "metadata": {
    "collapsed": true
   },
   "outputs": [],
   "source": [
    "X_train = load_mnist_images('train-images-idx3-ubyte.gz')\n",
    "y_train = load_mnist_labels('train-labels-idx1-ubyte.gz')\n",
    "X_test = load_mnist_images('t10k-images-idx3-ubyte.gz')\n",
    "y_test = load_mnist_labels('t10k-labels-idx1-ubyte.gz')"
   ]
  },
  {
   "cell_type": "code",
   "execution_count": 5,
   "metadata": {},
   "outputs": [
    {
     "data": {
      "text/plain": [
       "numpy.ndarray"
      ]
     },
     "execution_count": 5,
     "metadata": {},
     "output_type": "execute_result"
    }
   ],
   "source": [
    "type(X_train)"
   ]
  },
  {
   "cell_type": "code",
   "execution_count": 6,
   "metadata": {},
   "outputs": [
    {
     "name": "stdout",
     "output_type": "stream",
     "text": [
      "(60000, 1, 28, 28)\n",
      "(60000,)\n",
      "(10000, 1, 28, 28)\n",
      "(10000,)\n"
     ]
    }
   ],
   "source": [
    "print X_train.shape\n",
    "print y_train.shape\n",
    "print X_test.shape\n",
    "print y_test.shape"
   ]
  },
  {
   "cell_type": "code",
   "execution_count": 7,
   "metadata": {
    "collapsed": true
   },
   "outputs": [],
   "source": [
    "import math\n",
    "\n",
    "def plotSet(X,Y,N=0):\n",
    "    if N==0:\n",
    "        N = len(X)\n",
    "    total = N\n",
    "    if (len(X) < N):\n",
    "        N = len(X)\n",
    "    if (len(Y) < N):\n",
    "        N = len(Y)\n",
    "    max_in_row = 25\n",
    "    M = 1\n",
    "    if N > max_in_row:\n",
    "        M = int(math.ceil(N/max_in_row))\n",
    "        N = max_in_row\n",
    "    w = math.floor(1/N*1000)/1000    \n",
    "    #w=0.1\n",
    "    h = math.floor(1/(M) *1000)/1000\n",
    "    #h=0.3\n",
    "    #print N,M,w,h\n",
    "    pad = 0\n",
    "    fig = plt.figure(figsize=(N/1.5, M), dpi=120)    \n",
    "    for j in range(M):\n",
    "        for i in range(N):\n",
    "            n = i+(j*N)+1 \n",
    "            if n > total:\n",
    "                break\n",
    "            l = pad+(i+1)*(w+pad)\n",
    "            b = pad+(j)*(h+pad)\n",
    "            #print n,l,b,Y[n-1]\n",
    "            #a = fig.add_axes([l, b, w, h])\n",
    "            a = fig.add_subplot(M,N,n)\n",
    "            a.imshow(X[n-1][0])\n",
    "            a.axis('off')\n",
    "            a.set_title(str(Y[n-1]),fontsize=10)"
   ]
  },
  {
   "cell_type": "code",
   "execution_count": 8,
   "metadata": {},
   "outputs": [
    {
     "data": {
      "image/png": "[encoded data removed]",
      "text/plain": [
       "<matplotlib.figure.Figure at 0x7fcf0661be10>"
      ]
     },
     "metadata": {},
     "output_type": "display_data"
    }
   ],
   "source": [
    "plotSet(X_train,y_train,15)"
   ]
  },
  {
   "cell_type": "markdown",
   "metadata": {},
   "source": [
    "## Convert labels to 10 distinct class labels (one-hot)"
   ]
  },
  {
   "cell_type": "code",
   "execution_count": 9,
   "metadata": {
    "scrolled": true
   },
   "outputs": [
    {
     "name": "stdout",
     "output_type": "stream",
     "text": [
      "<type 'numpy.uint8'>\n",
      "<type 'numpy.int32'>\n"
     ]
    }
   ],
   "source": [
    "print type(y_train[0])\n",
    "y_train = y_train.astype(np.int32)\n",
    "y_test = y_test.astype(np.int32)\n",
    "print type(y_train[0])"
   ]
  },
  {
   "cell_type": "markdown",
   "metadata": {},
   "source": [
    "## Define model architecture"
   ]
  },
  {
   "cell_type": "code",
   "execution_count": 10,
   "metadata": {
    "collapsed": true
   },
   "outputs": [],
   "source": [
    "# Network definition Multi Layer Perceptron (MLP)\n",
    "class MLP(chainer.Chain):\n",
    "\n",
    "    def __init__(self, n_units=128, n_out=10):\n",
    "        super(MLP, self).__init__()\n",
    "        with self.init_scope():\n",
    "            # the size of the inputs to each layer will be inferred\n",
    "            self.l1 = L.Linear(None, n_units)  # n_in -> n_units\n",
    "            self.l2 = L.Linear(None, n_units)  # n_units -> n_units\n",
    "            self.l3 = L.Linear(None, n_out)  # n_units -> n_out\n",
    "\n",
    "    def __call__(self, x):\n",
    "        h1 = F.relu(self.l1(x))\n",
    "        h2 = F.relu(self.l2(h1))\n",
    "        return self.l3(h2)"
   ]
  },
  {
   "cell_type": "code",
   "execution_count": 11,
   "metadata": {
    "collapsed": true
   },
   "outputs": [],
   "source": [
    "# Model definition\n",
    "class SampleModel(chainer.Chain):\n",
    "\n",
    "    def __init__(self):\n",
    "        super(SampleModel, self).__init__(\n",
    "            l1 = L.Convolution2D(None, 32, (3,3)),\n",
    "            l2 = L.Convolution2D(None, 32, (3,3)),\n",
    "            l6 = L.Linear(None, 128),\n",
    "            l8 = L.Linear(None, 10),\n",
    "        )\n",
    "\n",
    "    def __call__(self, x):\n",
    "        h = F.tanh(self.l1(x))\n",
    "        h = F.relu(self.l2(h))\n",
    "        h = F.max_pooling_2d(h, (2,2))\n",
    "        #h = F.flatten(h)\n",
    "        h = F.reshape(h,(h.shape[0],h.shape[1]*h.shape[2]*h.shape[3]))\n",
    "        #h = F.relu(self.l6(h5))\n",
    "        h = F.dropout(h, 0.25)\n",
    "        h = self.l8(h)\n",
    "        h = F.relu(h)\n",
    "        return h"
   ]
  },
  {
   "cell_type": "code",
   "execution_count": 12,
   "metadata": {
    "collapsed": true
   },
   "outputs": [],
   "source": [
    "from chainer.datasets import tuple_dataset\n",
    "training_dataset = tuple_dataset.TupleDataset(X_train, y_train)\n",
    "test_dataset = tuple_dataset.TupleDataset(X_test, y_test)"
   ]
  },
  {
   "cell_type": "code",
   "execution_count": 13,
   "metadata": {},
   "outputs": [
    {
     "name": "stdout",
     "output_type": "stream",
     "text": [
      "<class 'chainer.datasets.tuple_dataset.TupleDataset'>\n",
      "60000\n"
     ]
    }
   ],
   "source": [
    "print type(training_dataset)\n",
    "print len(training_dataset)"
   ]
  },
  {
   "cell_type": "markdown",
   "metadata": {},
   "source": [
    "# Training parameters"
   ]
  },
  {
   "cell_type": "code",
   "execution_count": 14,
   "metadata": {
    "collapsed": true
   },
   "outputs": [],
   "source": [
    "batchsize = 64\n",
    "epoch = 2\n",
    "samples=1000"
   ]
  },
  {
   "cell_type": "code",
   "execution_count": 15,
   "metadata": {},
   "outputs": [
    {
     "name": "stdout",
     "output_type": "stream",
     "text": [
      "<class '__main__.SampleModel'>\n"
     ]
    }
   ],
   "source": [
    "import sys\n",
    "\n",
    "#model_class_name = \"MLP\"\n",
    "model_class_name = \"SampleModel\"\n",
    "model_class = getattr(sys.modules[__name__], model_class_name)\n",
    "model = model_class()\n",
    "print type(model)\n",
    "\n",
    "model = L.Classifier(model, lossfun = F.softmax_cross_entropy)\n",
    "optimizer = chainer.optimizers.AdaGrad(lr=0.01, eps=0.0005)\n",
    "optimizer.setup(model)"
   ]
  },
  {
   "cell_type": "code",
   "execution_count": 16,
   "metadata": {
    "collapsed": true
   },
   "outputs": [],
   "source": [
    "from chainer.training import extensions\n",
    "\n",
    "train_iter = chainer.iterators.SerialIterator(training_dataset[:samples], batchsize)\n",
    "test_iter = chainer.iterators.SerialIterator(test_dataset, batchsize,\n",
    "                                                 repeat=False, shuffle=False)\n",
    "updater = training.StandardUpdater(train_iter, optimizer)\n",
    "trainer = training.Trainer(updater, (epoch, 'epoch'), out=\".\")\n",
    "# Evaluate the model with the test dataset for each epoch\n",
    "trainer.extend(extensions.Evaluator(test_iter, model))\n",
    "trainer.extend(extensions.LogReport())\n",
    "trainer.extend(extensions.PrintReport(\n",
    "    ['epoch',  'main/loss', 'validation/main/loss', 'main/accuracy','validation/main/accuracy', 'elapsed_time']))\n",
    "# Save two plot images to the result dir\n",
    "if extensions.PlotReport.available():\n",
    "    trainer.extend(\n",
    "        extensions.PlotReport(['main/loss', 'validation/main/loss', 'main/accuracy', 'validation/main/accuracy'],\n",
    "                              'epoch', file_name='learning_curve.png'))"
   ]
  },
  {
   "cell_type": "markdown",
   "metadata": {},
   "source": [
    "### Report extension"
   ]
  },
  {
   "cell_type": "code",
   "execution_count": 17,
   "metadata": {},
   "outputs": [],
   "source": [
    "class Reporter(extensions.LogReport):\n",
    "    \n",
    "    train_acc = []\n",
    "    train_loss = []\n",
    "    test_acc = []\n",
    "    \n",
    "    def __call__(self, trainer):\n",
    "        keys = self._keys\n",
    "        observation = trainer.observation\n",
    "        summary = self._summary\n",
    "        #print \"Debug info from Reporter\"\n",
    "        print observation\n",
    "        \n",
    "        ##\n",
    "        ## TODO:\n",
    "        ## Conver from Variable class to float\n",
    "        self.train_acc.append(observation[\"main/accuracy\"].data)\n",
    "        self.train_loss.append(observation[\"main/loss\"].data[0])\n",
    "        self.test_acc.append(None)\n",
    "        #print keys\n",
    "        if keys is None:\n",
    "            summary.add(observation)\n",
    "        else:\n",
    "            summary.add({k: observation[k] for k in keys if k in observation})\n",
    "\n",
    "        if self._trigger(trainer):\n",
    "            updater = trainer.updater\n",
    "            print updater.epoch, updater.iteration, trainer.elapsed_time\n",
    "            self.test_acc[-1] = observation[\"validation/main/accuracy\"].data[0]\n",
    "            \n",
    "    def get_data(self):\n",
    "        return {\"train_acc\":self.train_acc, \"train_loss\":self.train_loss, \"test_acc\":self.test_acc}"
   ]
  },
  {
   "cell_type": "code",
   "execution_count": 18,
   "metadata": {},
   "outputs": [],
   "source": [
    "my_reporter = Reporter()\n",
    "trainer.extend(my_reporter)\n"
   ]
  },
  {
   "cell_type": "markdown",
   "metadata": {},
   "source": [
    "# Training"
   ]
  },
  {
   "cell_type": "code",
   "execution_count": 19,
   "metadata": {},
   "outputs": [
    {
     "name": "stdout",
     "output_type": "stream",
     "text": [
      "epoch       main/loss   validation/main/loss  main/accuracy  validation/main/accuracy  elapsed_time\n",
      "{'main/loss': variable(2.273726224899292), 'main/accuracy': variable(0.171875)}\n"
     ]
    },
    {
     "ename": "IndexError",
     "evalue": "too many indices for array",
     "output_type": "error",
     "traceback": [
      "\u001b[0;31m\u001b[0m",
      "\u001b[0;31mIndexError\u001b[0mTraceback (most recent call last)",
      "\u001b[0;32m<ipython-input-19-2e7505ede742>\u001b[0m in \u001b[0;36m<module>\u001b[0;34m()\u001b[0m\n\u001b[0;32m----> 1\u001b[0;31m \u001b[0mtrainer\u001b[0m\u001b[0;34m.\u001b[0m\u001b[0mrun\u001b[0m\u001b[0;34m(\u001b[0m\u001b[0;34m)\u001b[0m\u001b[0;34m\u001b[0m\u001b[0m\n\u001b[0m\u001b[1;32m      2\u001b[0m \u001b[0mdata\u001b[0m \u001b[0;34m=\u001b[0m \u001b[0mmy_reporter\u001b[0m\u001b[0;34m.\u001b[0m\u001b[0mget_data\u001b[0m\u001b[0;34m(\u001b[0m\u001b[0;34m)\u001b[0m\u001b[0;34m\u001b[0m\u001b[0m\n\u001b[1;32m      3\u001b[0m \u001b[0;32mprint\u001b[0m \u001b[0mdata\u001b[0m\u001b[0;34m\u001b[0m\u001b[0m\n",
      "\u001b[0;32m/usr/local/lib/python2.7/dist-packages/chainer/training/trainer.pyc\u001b[0m in \u001b[0;36mrun\u001b[0;34m(self)\u001b[0m\n\u001b[1;32m    297\u001b[0m                     \u001b[0;32mfor\u001b[0m \u001b[0mname\u001b[0m\u001b[0;34m,\u001b[0m \u001b[0mentry\u001b[0m \u001b[0;32min\u001b[0m \u001b[0mextensions\u001b[0m\u001b[0;34m:\u001b[0m\u001b[0;34m\u001b[0m\u001b[0m\n\u001b[1;32m    298\u001b[0m                         \u001b[0;32mif\u001b[0m \u001b[0mentry\u001b[0m\u001b[0;34m.\u001b[0m\u001b[0mtrigger\u001b[0m\u001b[0;34m(\u001b[0m\u001b[0mself\u001b[0m\u001b[0;34m)\u001b[0m\u001b[0;34m:\u001b[0m\u001b[0;34m\u001b[0m\u001b[0m\n\u001b[0;32m--> 299\u001b[0;31m                             \u001b[0mentry\u001b[0m\u001b[0;34m.\u001b[0m\u001b[0mextension\u001b[0m\u001b[0;34m(\u001b[0m\u001b[0mself\u001b[0m\u001b[0;34m)\u001b[0m\u001b[0;34m\u001b[0m\u001b[0m\n\u001b[0m\u001b[1;32m    300\u001b[0m         \u001b[0;32mfinally\u001b[0m\u001b[0;34m:\u001b[0m\u001b[0;34m\u001b[0m\u001b[0m\n\u001b[1;32m    301\u001b[0m             \u001b[0;32mfor\u001b[0m \u001b[0m_\u001b[0m\u001b[0;34m,\u001b[0m \u001b[0mentry\u001b[0m \u001b[0;32min\u001b[0m \u001b[0mextensions\u001b[0m\u001b[0;34m:\u001b[0m\u001b[0;34m\u001b[0m\u001b[0m\n",
      "\u001b[0;32m<ipython-input-17-3de6e23c14dd>\u001b[0m in \u001b[0;36m__call__\u001b[0;34m(self, trainer)\u001b[0m\n\u001b[1;32m     11\u001b[0m         \u001b[0;31m#print \"Debug info from Reporter\"\u001b[0m\u001b[0;34m\u001b[0m\u001b[0;34m\u001b[0m\u001b[0m\n\u001b[1;32m     12\u001b[0m         \u001b[0;32mprint\u001b[0m \u001b[0mobservation\u001b[0m\u001b[0;34m\u001b[0m\u001b[0m\n\u001b[0;32m---> 13\u001b[0;31m         \u001b[0mself\u001b[0m\u001b[0;34m.\u001b[0m\u001b[0mtrain_acc\u001b[0m\u001b[0;34m.\u001b[0m\u001b[0mappend\u001b[0m\u001b[0;34m(\u001b[0m\u001b[0mobservation\u001b[0m\u001b[0;34m[\u001b[0m\u001b[0;34m\"main/accuracy\"\u001b[0m\u001b[0;34m]\u001b[0m\u001b[0;34m.\u001b[0m\u001b[0mdata\u001b[0m\u001b[0;34m[\u001b[0m\u001b[0;36m0\u001b[0m\u001b[0;34m]\u001b[0m\u001b[0;34m)\u001b[0m\u001b[0;34m\u001b[0m\u001b[0m\n\u001b[0m\u001b[1;32m     14\u001b[0m         \u001b[0mself\u001b[0m\u001b[0;34m.\u001b[0m\u001b[0mtrain_loss\u001b[0m\u001b[0;34m.\u001b[0m\u001b[0mappend\u001b[0m\u001b[0;34m(\u001b[0m\u001b[0mobservation\u001b[0m\u001b[0;34m[\u001b[0m\u001b[0;34m\"main/loss\"\u001b[0m\u001b[0;34m]\u001b[0m\u001b[0;34m.\u001b[0m\u001b[0mdata\u001b[0m\u001b[0;34m[\u001b[0m\u001b[0;36m0\u001b[0m\u001b[0;34m]\u001b[0m\u001b[0;34m)\u001b[0m\u001b[0;34m\u001b[0m\u001b[0m\n\u001b[1;32m     15\u001b[0m         \u001b[0mself\u001b[0m\u001b[0;34m.\u001b[0m\u001b[0mtest_acc\u001b[0m\u001b[0;34m.\u001b[0m\u001b[0mappend\u001b[0m\u001b[0;34m(\u001b[0m\u001b[0mNone\u001b[0m\u001b[0;34m)\u001b[0m\u001b[0;34m\u001b[0m\u001b[0m\n",
      "\u001b[0;31mIndexError\u001b[0m: too many indices for array"
     ]
    }
   ],
   "source": [
    "trainer.run()\n",
    "data = my_reporter.get_data()\n",
    "print data"
   ]
  },
  {
   "cell_type": "code",
   "execution_count": null,
   "metadata": {
    "collapsed": true
   },
   "outputs": [],
   "source": [
    "def plot_loss_accuracy_org(train_loss, test_loss, train_acc, test_acc, train_points, validation_points) :    \n",
    "    if train_points is None:\n",
    "        train_points = np.arange(0,len(train_loss))        \n",
    "    if validation_points is None:\n",
    "        step = len(train_loss)/len(test_loss)\n",
    "        print len(train_loss),\"batches\",len(test_loss),\"epochs, step\",step\n",
    "        validation_points = np.arange(step,step*len(test_loss)+1,step)        \n",
    "    fig = plt.figure(figsize=(15, 10))\n",
    "    ax1 = fig.add_subplot(111)\n",
    "    ax2 = ax1.twinx()\n",
    "    ax1.plot(train_points, train_loss, 'r-',label= \"loss_train\",alpha=0.3)\n",
    "    ax1.plot(validation_points, test_loss, 'r.-',label= \"loss_test\")\n",
    "    ax2.plot(train_points, train_acc, 'b-',label= \"acc_train\",alpha=0.7)\n",
    "    ax2.plot(validation_points, test_acc, 'b.-',label= \"acc_test\")\n",
    "    ax1.set_ylim([0,2.5])\n",
    "    ax1.set_xlabel('batch')\n",
    "    ax1.set_ylabel('loss')\n",
    "    ax2.set_ylabel('accuracy')\n",
    "\n",
    "    ax2.set_ylim([0,1])\n",
    "    ax1.legend(loc='center right')\n",
    "    ax2.legend(loc='best')\n",
    "    ax1.minorticks_on()\n",
    "    ax1.grid(which=\"both\")\n",
    "    \n",
    "def plot_loss_accuracy(train_loss, test_loss, train_acc, test_acc) :    \n",
    "    print len(train_acc)\n",
    "    x = np.arange(0,len(train_acc))\n",
    "    fig = plt.figure(figsize=(15, 10))\n",
    "    ax1 = fig.add_subplot(111)\n",
    "    ax2 = ax1.twinx()\n",
    "    if train_loss is not None:\n",
    "        ax1.plot(x, train_loss, 'r-',label= \"loss_train\",alpha=0.3)\n",
    "    if test_loss is not None:\n",
    "        ax1.plot(x, test_loss, 'r.-',label= \"loss_test\")\n",
    "    if train_acc is not None:\n",
    "        ax2.plot(x, train_acc, 'b-',label= \"acc_train\",alpha=0.7)\n",
    "    if test_acc is not None:\n",
    "        ax2.plot(x, test_acc, 'b.-',label= \"acc_test\")\n",
    "    ax1.set_ylim([0,2.5])\n",
    "    ax1.set_xlabel('batch')\n",
    "    ax1.set_ylabel('loss')\n",
    "    ax2.set_ylabel('accuracy')\n",
    "\n",
    "    ax2.set_ylim([0,1])\n",
    "    ax1.legend(loc='center right')\n",
    "    ax2.legend(loc='best')\n",
    "    ax1.minorticks_on()\n",
    "    ax1.grid(which=\"both\")"
   ]
  },
  {
   "cell_type": "code",
   "execution_count": null,
   "metadata": {},
   "outputs": [],
   "source": [
    "print type(data[\"train_loss\"])\n",
    "train_loss = np.asarray(data[\"train_loss\"])\n",
    "#train_loss = train_loss.astype(np.float32)\n",
    "print type(train_loss[0])\n",
    "plot_loss_accuracy(data[\"train_loss\"], None, data[\"train_acc\"], data[\"test_acc\"])"
   ]
  },
  {
   "cell_type": "markdown",
   "metadata": {},
   "source": [
    "# Test predictions"
   ]
  },
  {
   "cell_type": "code",
   "execution_count": null,
   "metadata": {
    "collapsed": true
   },
   "outputs": [],
   "source": [
    "def decodeNum(x):\n",
    "    i = []\n",
    "    for xi in x:\n",
    "        ni = np.argmax(xi)\n",
    "        i.append(ni)\n",
    "    return i"
   ]
  },
  {
   "cell_type": "code",
   "execution_count": null,
   "metadata": {
    "scrolled": false
   },
   "outputs": [],
   "source": [
    "# Pick random indexes\n",
    "test_indexes = np.random.randint(0,y_test.shape[0], batchsize)\n",
    "x = X_test[test_indexes]\n",
    "t = y_test[test_indexes]\n",
    "\n",
    "# Predictions for random elements\n",
    "y = model.predictor(x)\n",
    "y = y.data\n",
    "# y has predictions as probabilities\n",
    "h = np.asarray(decodeNum(y))\n",
    "# h has predictions as numbers\n",
    "\n",
    "# Find incorrect predictions\n",
    "errors = []\n",
    "for i in range(len(h)):\n",
    "    if h[i] != t[i]:        \n",
    "        errors.append(i)\n",
    "print \"Have\",len(errors),\"errors\"\n",
    "# errors has indexes of incorrect redictions\n",
    "for i in errors:\n",
    "    print h[i],\"≠\", t[i]\n",
    "\n",
    "# plot images and predictions (incorrect)\n",
    "if len(errors) > 0:\n",
    "    plotSet(x[errors],h[errors])\n",
    "\n",
    "    # Plot probabilities\n",
    "    y_err = y[errors]\n",
    "    for i in range(len(y_err)):\n",
    "        fig = plt.figure()\n",
    "        plt.bar(range(len(y_err[i])), y_err[i])"
   ]
  },
  {
   "cell_type": "code",
   "execution_count": null,
   "metadata": {
    "collapsed": true
   },
   "outputs": [],
   "source": []
  }
 ],
 "metadata": {
  "kernelspec": {
   "display_name": "Python 2",
   "language": "python",
   "name": "python2"
  },
  "language_info": {
   "codemirror_mode": {
    "name": "ipython",
    "version": 2
   },
   "file_extension": ".py",
   "mimetype": "text/x-python",
   "name": "python",
   "nbconvert_exporter": "python",
   "pygments_lexer": "ipython2",
   "version": "2.7.9"
  }
 },
 "nbformat": 4,
 "nbformat_minor": 2
}
