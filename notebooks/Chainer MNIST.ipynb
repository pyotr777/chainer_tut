{
 "cells": [
  {
   "cell_type": "markdown",
   "metadata": {},
   "source": [
    "# Chainer MNIST tutorial\n",
    "\n",
    "http://docs.chainer.org/en/latest/tutorial/basic.html#example-multi-layer-perceptron-on-mnist"
   ]
  },
  {
   "cell_type": "markdown",
   "metadata": {},
   "source": [
    "### Use model from Keras tutorial\n",
    "\n",
    "https://elitedatascience.com/keras-tutorial-deep-learning-in-python"
   ]
  },
  {
   "cell_type": "code",
   "execution_count": 53,
   "metadata": {
    "collapsed": true
   },
   "outputs": [],
   "source": [
    "from matplotlib import pyplot as plt\n",
    "%matplotlib inline\n",
    "\n",
    "import chainer\n",
    "import chainer.functions as F\n",
    "import chainer.links as L\n",
    "from chainer import training\n",
    "from chainer.training import extensions"
   ]
  },
  {
   "cell_type": "code",
   "execution_count": 54,
   "metadata": {
    "collapsed": true
   },
   "outputs": [],
   "source": [
    "import numpy as np\n",
    "np.random.seed(123)  # for reproducibility"
   ]
  },
  {
   "cell_type": "markdown",
   "metadata": {},
   "source": [
    "### Load MNIST dataset"
   ]
  },
  {
   "cell_type": "code",
   "execution_count": 55,
   "metadata": {
    "collapsed": true
   },
   "outputs": [],
   "source": [
    "import os\n",
    "from urllib import urlretrieve\n",
    "\n",
    "def download(filename, source='http://yann.lecun.com/exdb/mnist/'):\n",
    "    print(\"Downloading %s\" % filename)\n",
    "    urlretrieve(source + filename, filename)\n",
    "\n",
    "# We then define functions for loading MNIST images and labels.\n",
    "# For convenience, they also download the requested files if needed.\n",
    "import gzip\n",
    "\n",
    "def load_mnist_images(filename):\n",
    "    if not os.path.exists(filename):\n",
    "        download(filename)\n",
    "    # Read the inputs in Yann LeCun's binary format.\n",
    "    with gzip.open(filename, 'rb') as f:\n",
    "        data = np.frombuffer(f.read(), np.uint8, offset=16)\n",
    "    # The inputs are vectors now, we reshape them to monochrome 2D images,\n",
    "    # following the shape convention: (examples, channels, rows, columns)\n",
    "    data = data.reshape(-1, 1, 28, 28)\n",
    "    # The inputs come as bytes, we convert them to float32 in range [0,1].\n",
    "    # (Actually to range [0, 255/256], for compatibility to the version\n",
    "    # provided at http://deeplearning.net/data/mnist/mnist.pkl.gz.)\n",
    "    return data / np.float32(256)\n",
    "\n",
    "def load_mnist_labels(filename):\n",
    "    if not os.path.exists(filename):\n",
    "        download(filename)\n",
    "    # Read the labels in Yann LeCun's binary format.\n",
    "    with gzip.open(filename, 'rb') as f:\n",
    "        data = np.frombuffer(f.read(), np.uint8, offset=8)\n",
    "    # The labels are vectors of integers now, that's exactly what we want.\n",
    "    return data"
   ]
  },
  {
   "cell_type": "code",
   "execution_count": 56,
   "metadata": {
    "collapsed": true
   },
   "outputs": [],
   "source": [
    "X_train = load_mnist_images('train-images-idx3-ubyte.gz')\n",
    "y_train = load_mnist_labels('train-labels-idx1-ubyte.gz')\n",
    "X_test = load_mnist_images('t10k-images-idx3-ubyte.gz')\n",
    "y_test = load_mnist_labels('t10k-labels-idx1-ubyte.gz')"
   ]
  },
  {
   "cell_type": "code",
   "execution_count": 57,
   "metadata": {},
   "outputs": [
    {
     "data": {
      "text/plain": [
       "numpy.ndarray"
      ]
     },
     "execution_count": 57,
     "metadata": {},
     "output_type": "execute_result"
    }
   ],
   "source": [
    "type(X_train)"
   ]
  },
  {
   "cell_type": "code",
   "execution_count": 58,
   "metadata": {},
   "outputs": [
    {
     "name": "stdout",
     "output_type": "stream",
     "text": [
      "(60000, 1, 28, 28)\n",
      "(60000,)\n",
      "(10000, 1, 28, 28)\n",
      "(10000,)\n"
     ]
    }
   ],
   "source": [
    "print X_train.shape\n",
    "print y_train.shape\n",
    "print X_test.shape\n",
    "print y_test.shape"
   ]
  },
  {
   "cell_type": "code",
   "execution_count": 59,
   "metadata": {
    "collapsed": true
   },
   "outputs": [],
   "source": [
    "import math\n",
    "\n",
    "def plotSet(X,Y,N=0):\n",
    "    if N==0:\n",
    "        N = len(X)\n",
    "    total = N\n",
    "    if (len(X) < N):\n",
    "        N = len(X)\n",
    "    if (len(Y) < N):\n",
    "        N = len(Y)\n",
    "    max_in_row = 25\n",
    "    M = 1\n",
    "    if N > max_in_row:\n",
    "        M = int(math.ceil(N/max_in_row))\n",
    "        N = max_in_row\n",
    "    w = math.floor(1/N*1000)/1000    \n",
    "    #w=0.1\n",
    "    h = math.floor(1/(M) *1000)/1000\n",
    "    #h=0.3\n",
    "    #print N,M,w,h\n",
    "    pad = 0\n",
    "    fig = plt.figure(figsize=(N/1.5, M), dpi=120)    \n",
    "    for j in range(M):\n",
    "        for i in range(N):\n",
    "            n = i+(j*N)+1 \n",
    "            if n > total:\n",
    "                break\n",
    "            l = pad+(i+1)*(w+pad)\n",
    "            b = pad+(j)*(h+pad)\n",
    "            #print n,l,b,Y[n-1]\n",
    "            #a = fig.add_axes([l, b, w, h])\n",
    "            a = fig.add_subplot(M,N,n)\n",
    "            a.imshow(X[n-1][0])\n",
    "            a.axis('off')\n",
    "            a.set_title(str(Y[n-1]),fontsize=10)"
   ]
  },
  {
   "cell_type": "code",
   "execution_count": 60,
   "metadata": {},
   "outputs": [
    {
     "data": {
      "image/png": "[encoded data removed]",
      "text/plain": [
       "<matplotlib.figure.Figure at 0x7efc0c86ee50>"
      ]
     },
     "metadata": {},
     "output_type": "display_data"
    }
   ],
   "source": [
    "plotSet(X_train,y_train,15)"
   ]
  },
  {
   "cell_type": "markdown",
   "metadata": {},
   "source": [
    "## Convert labels to 10 distinct class labels (one-hot)"
   ]
  },
  {
   "cell_type": "code",
   "execution_count": 61,
   "metadata": {
    "scrolled": true
   },
   "outputs": [
    {
     "name": "stdout",
     "output_type": "stream",
     "text": [
      "<type 'numpy.uint8'>\n",
      "<type 'numpy.int32'>\n"
     ]
    }
   ],
   "source": [
    "print type(y_train[0])\n",
    "y_train = y_train.astype(np.int32)\n",
    "y_test = y_test.astype(np.int32)\n",
    "print type(y_train[0])"
   ]
  },
  {
   "cell_type": "markdown",
   "metadata": {},
   "source": [
    "## Define model architecture"
   ]
  },
  {
   "cell_type": "code",
   "execution_count": 69,
   "metadata": {
    "collapsed": true
   },
   "outputs": [],
   "source": [
    "# Network definition Multi Layer Perceptron (MLP)\n",
    "class MLP(chainer.Chain):\n",
    "\n",
    "    def __init__(self, n_units=128, n_out=10):\n",
    "        super(MLP, self).__init__()\n",
    "        with self.init_scope():\n",
    "            # the size of the inputs to each layer will be inferred\n",
    "            self.l1 = L.Linear(None, n_units)  # n_in -> n_units\n",
    "            self.l2 = L.Linear(None, n_units)  # n_units -> n_units\n",
    "            self.l3 = L.Linear(None, n_out)  # n_units -> n_out\n",
    "\n",
    "    def __call__(self, x):\n",
    "        h1 = F.relu(self.l1(x))\n",
    "        h2 = F.relu(self.l2(h1))\n",
    "        return self.l3(h2)"
   ]
  },
  {
   "cell_type": "code",
   "execution_count": 77,
   "metadata": {
    "collapsed": true
   },
   "outputs": [],
   "source": [
    "# Model definition\n",
    "class SampleModel(chainer.Chain):\n",
    "\n",
    "    def __init__(self):\n",
    "        super(SampleModel, self).__init__(\n",
    "            l1 = L.Convolution2D(None, 32, (3,3)),\n",
    "            l2 = L.Convolution2D(None, 32, (3,3)),\n",
    "            l6 = L.Linear(None, 128),\n",
    "            l8 = L.Linear(None, 10),\n",
    "        )\n",
    "\n",
    "    def __call__(self, x):\n",
    "        h = F.tanh(self.l1(x))\n",
    "        h = F.relu(self.l2(h))\n",
    "        h = F.max_pooling_2d(h, (2,2))\n",
    "        #h = F.flatten(h)\n",
    "        h = F.reshape(h,(h.shape[0],h.shape[1]*h.shape[2]*h.shape[3]))\n",
    "        #h = F.relu(self.l6(h5))\n",
    "        h = F.dropout(h, 0.25)\n",
    "        h = self.l8(h)\n",
    "        h = F.relu(h)\n",
    "        return h"
   ]
  },
  {
   "cell_type": "code",
   "execution_count": 78,
   "metadata": {
    "collapsed": true
   },
   "outputs": [],
   "source": [
    "from chainer.datasets import tuple_dataset\n",
    "training_dataset = tuple_dataset.TupleDataset(X_train, y_train)\n",
    "test_dataset = tuple_dataset.TupleDataset(X_test, y_test)"
   ]
  },
  {
   "cell_type": "code",
   "execution_count": 79,
   "metadata": {},
   "outputs": [
    {
     "name": "stdout",
     "output_type": "stream",
     "text": [
      "<class 'chainer.datasets.tuple_dataset.TupleDataset'>\n",
      "60000\n"
     ]
    }
   ],
   "source": [
    "print type(training_dataset)\n",
    "print len(training_dataset)"
   ]
  },
  {
   "cell_type": "markdown",
   "metadata": {},
   "source": [
    "# Training parameters"
   ]
  },
  {
   "cell_type": "code",
   "execution_count": 80,
   "metadata": {
    "collapsed": true
   },
   "outputs": [],
   "source": [
    "batchsize = 64\n",
    "epoch = 3"
   ]
  },
  {
   "cell_type": "code",
   "execution_count": 102,
   "metadata": {},
   "outputs": [
    {
     "name": "stdout",
     "output_type": "stream",
     "text": [
      "<class '__main__.SampleModel'>\n"
     ]
    }
   ],
   "source": [
    "import sys\n",
    "\n",
    "#model_class_name = \"MLP\"\n",
    "model_class_name = \"SampleModel\"\n",
    "model_class = getattr(sys.modules[__name__], model_class_name)\n",
    "model = model_class()\n",
    "print type(model)\n",
    "\n",
    "model = L.Classifier(model, lossfun = F.softmax_cross_entropy)\n",
    "optimizer = chainer.optimizers.AdaGrad(lr=0.01, eps=0.0005)\n",
    "optimizer.setup(model)"
   ]
  },
  {
   "cell_type": "code",
   "execution_count": 103,
   "metadata": {
    "collapsed": true
   },
   "outputs": [],
   "source": [
    "from chainer.training import extensions\n",
    "\n",
    "train_iter = chainer.iterators.SerialIterator(training_dataset, batchsize)\n",
    "test_iter = chainer.iterators.SerialIterator(test_dataset, batchsize,\n",
    "                                                 repeat=False, shuffle=False)\n",
    "updater = training.StandardUpdater(train_iter, optimizer)\n",
    "trainer = training.Trainer(updater, (epoch, 'epoch'), out=\".\")\n",
    "# Evaluate the model with the test dataset for each epoch\n",
    "trainer.extend(extensions.Evaluator(test_iter, model))\n",
    "trainer.extend(extensions.LogReport())\n",
    "trainer.extend(extensions.PrintReport(\n",
    "    ['epoch',  'main/loss', 'validation/main/loss', 'main/accuracy','validation/main/accuracy', 'elapsed_time']))\n",
    "# Save two plot images to the result dir\n",
    "if extensions.PlotReport.available():\n",
    "    trainer.extend(\n",
    "        extensions.PlotReport(['main/loss', 'validation/main/loss', 'main/accuracy', 'validation/main/accuracy'],\n",
    "                              'epoch', file_name='learning_curve.png'))"
   ]
  },
  {
   "cell_type": "markdown",
   "metadata": {},
   "source": [
    "# Training"
   ]
  },
  {
   "cell_type": "code",
   "execution_count": 104,
   "metadata": {},
   "outputs": [
    {
     "name": "stdout",
     "output_type": "stream",
     "text": [
      "epoch       main/loss   validation/main/loss  main/accuracy  validation/main/accuracy  elapsed_time\n",
      "\u001b[J1           0.352083    0.289197              0.869769       0.884853                  234.796       \n",
      "\u001b[J2           0.285377    0.275322              0.887307       0.886843                  468.729       \n",
      "\u001b[J3           0.274951    0.271212              0.889492       0.888635                  704.919       \n"
     ]
    }
   ],
   "source": [
    "trainer.run()"
   ]
  },
  {
   "cell_type": "markdown",
   "metadata": {},
   "source": [
    "# Test predictions"
   ]
  },
  {
   "cell_type": "code",
   "execution_count": 44,
   "metadata": {
    "collapsed": true
   },
   "outputs": [],
   "source": [
    "def decodeNum(x):\n",
    "    i = []\n",
    "    for xi in x:\n",
    "        ni = np.argmax(xi)\n",
    "        i.append(ni)\n",
    "    return i"
   ]
  },
  {
   "cell_type": "code",
   "execution_count": 45,
   "metadata": {
    "scrolled": false
   },
   "outputs": [
    {
     "name": "stdout",
     "output_type": "stream",
     "text": [
      "Have 1 errors\n",
      "5 ≠ 0\n"
     ]
    },
    {
     "data": {
      "image/png": "[encoded data removed]",
      "text/plain": [
       "<matplotlib.figure.Figure at 0x7efc0c5f4ad0>"
      ]
     },
     "metadata": {},
     "output_type": "display_data"
    },
    {
     "data": {
      "image/png": "[encoded data removed]",
      "text/plain": [
       "<matplotlib.figure.Figure at 0x7efc0c539410>"
      ]
     },
     "metadata": {},
     "output_type": "display_data"
    }
   ],
   "source": [
    "# Pick random indexes\n",
    "test_indexes = np.random.randint(0,y_test.shape[0], batchsize)\n",
    "x = X_test[test_indexes]\n",
    "t = y_test[test_indexes]\n",
    "\n",
    "# Predictions for random elements\n",
    "y = model.predictor(x)\n",
    "y = y.data\n",
    "# y has predictions as probabilities\n",
    "h = np.asarray(decodeNum(y))\n",
    "# h has predictions as numbers\n",
    "\n",
    "# Find incorrect predictions\n",
    "errors = []\n",
    "for i in range(len(h)):\n",
    "    if h[i] != t[i]:        \n",
    "        errors.append(i)\n",
    "print \"Have\",len(errors),\"errors\"\n",
    "# errors has indexes of incorrect redictions\n",
    "for i in errors:\n",
    "    print h[i],\"≠\", t[i]\n",
    "\n",
    "# plot images and predictions (incorrect)\n",
    "if len(errors) > 0:\n",
    "    plotSet(x[errors],h[errors])\n",
    "\n",
    "    # Plot probabilities\n",
    "    y_err = y[errors]\n",
    "    for i in range(len(y_err)):\n",
    "        fig = plt.figure()\n",
    "        plt.bar(range(len(y_err[i])), y_err[i])"
   ]
  },
  {
   "cell_type": "code",
   "execution_count": null,
   "metadata": {
    "collapsed": true
   },
   "outputs": [],
   "source": []
  }
 ],
 "metadata": {
  "kernelspec": {
   "display_name": "Python 2",
   "language": "python",
   "name": "python2"
  },
  "language_info": {
   "codemirror_mode": {
    "name": "ipython",
    "version": 2
   },
   "file_extension": ".py",
   "mimetype": "text/x-python",
   "name": "python",
   "nbconvert_exporter": "python",
   "pygments_lexer": "ipython2",
   "version": "2.7.9"
  }
 },
 "nbformat": 4,
 "nbformat_minor": 2
}
