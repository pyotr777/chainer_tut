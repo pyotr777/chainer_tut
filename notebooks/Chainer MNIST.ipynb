{
 "cells": [
  {
   "cell_type": "markdown",
   "metadata": {},
   "source": [
    "# Chainer MNIST tutorial\n",
    "\n",
    "http://docs.chainer.org/en/latest/tutorial/basic.html#example-multi-layer-perceptron-on-mnist"
   ]
  },
  {
   "cell_type": "markdown",
   "metadata": {},
   "source": [
    "### Use model from Keras tutorial\n",
    "\n",
    "https://elitedatascience.com/keras-tutorial-deep-learning-in-python"
   ]
  },
  {
   "cell_type": "code",
   "execution_count": 13,
   "metadata": {
    "collapsed": true
   },
   "outputs": [],
   "source": [
    "from matplotlib import pyplot as plt\n",
    "%matplotlib inline\n",
    "\n",
    "import chainer\n",
    "import chainer.functions as F\n",
    "import chainer.links as L\n",
    "from chainer import training\n",
    "from chainer.training import extensions"
   ]
  },
  {
   "cell_type": "code",
   "execution_count": 14,
   "metadata": {
    "collapsed": true
   },
   "outputs": [],
   "source": [
    "import numpy as np\n",
    "np.random.seed(123)  # for reproducibility"
   ]
  },
  {
   "cell_type": "markdown",
   "metadata": {},
   "source": [
    "### Load MNIST dataset"
   ]
  },
  {
   "cell_type": "code",
   "execution_count": 15,
   "metadata": {
    "collapsed": true
   },
   "outputs": [],
   "source": [
    "import os\n",
    "from urllib import urlretrieve\n",
    "\n",
    "def download(filename, source='http://yann.lecun.com/exdb/mnist/'):\n",
    "    print(\"Downloading %s\" % filename)\n",
    "    urlretrieve(source + filename, filename)\n",
    "\n",
    "# We then define functions for loading MNIST images and labels.\n",
    "# For convenience, they also download the requested files if needed.\n",
    "import gzip\n",
    "\n",
    "def load_mnist_images(filename):\n",
    "    if not os.path.exists(filename):\n",
    "        download(filename)\n",
    "    # Read the inputs in Yann LeCun's binary format.\n",
    "    with gzip.open(filename, 'rb') as f:\n",
    "        data = np.frombuffer(f.read(), np.uint8, offset=16)\n",
    "    # The inputs are vectors now, we reshape them to monochrome 2D images,\n",
    "    # following the shape convention: (examples, channels, rows, columns)\n",
    "    data = data.reshape(-1, 1, 28, 28)\n",
    "    # The inputs come as bytes, we convert them to float32 in range [0,1].\n",
    "    # (Actually to range [0, 255/256], for compatibility to the version\n",
    "    # provided at http://deeplearning.net/data/mnist/mnist.pkl.gz.)\n",
    "    return data / np.float32(256)\n",
    "\n",
    "def load_mnist_labels(filename):\n",
    "    if not os.path.exists(filename):\n",
    "        download(filename)\n",
    "    # Read the labels in Yann LeCun's binary format.\n",
    "    with gzip.open(filename, 'rb') as f:\n",
    "        data = np.frombuffer(f.read(), np.uint8, offset=8)\n",
    "    # The labels are vectors of integers now, that's exactly what we want.\n",
    "    return data"
   ]
  },
  {
   "cell_type": "code",
   "execution_count": 16,
   "metadata": {
    "collapsed": true
   },
   "outputs": [],
   "source": [
    "X_train = load_mnist_images('train-images-idx3-ubyte.gz')\n",
    "y_train = load_mnist_labels('train-labels-idx1-ubyte.gz')\n",
    "X_test = load_mnist_images('t10k-images-idx3-ubyte.gz')\n",
    "y_test = load_mnist_labels('t10k-labels-idx1-ubyte.gz')"
   ]
  },
  {
   "cell_type": "code",
   "execution_count": 17,
   "metadata": {},
   "outputs": [
    {
     "data": {
      "text/plain": [
       "numpy.ndarray"
      ]
     },
     "execution_count": 17,
     "metadata": {},
     "output_type": "execute_result"
    }
   ],
   "source": [
    "type(X_train)"
   ]
  },
  {
   "cell_type": "code",
   "execution_count": 18,
   "metadata": {},
   "outputs": [
    {
     "name": "stdout",
     "output_type": "stream",
     "text": [
      "(60000, 1, 28, 28)\n",
      "(60000,)\n",
      "(10000, 1, 28, 28)\n",
      "(10000,)\n"
     ]
    }
   ],
   "source": [
    "print X_train.shape\n",
    "print y_train.shape\n",
    "print X_test.shape\n",
    "print y_test.shape"
   ]
  },
  {
   "cell_type": "code",
   "execution_count": 22,
   "metadata": {
    "collapsed": true
   },
   "outputs": [],
   "source": [
    "import math\n",
    "\n",
    "def plotSet(X,Y,N=0):\n",
    "    if N==0:\n",
    "        N = len(X)\n",
    "    total = N\n",
    "    if (len(X) < N):\n",
    "        N = len(X)\n",
    "    if (len(Y) < N):\n",
    "        N = len(Y)\n",
    "    max_in_row = 25\n",
    "    M = 1\n",
    "    if N > max_in_row:\n",
    "        M = int(math.ceil(N/max_in_row))\n",
    "        N = max_in_row\n",
    "    w = math.floor(1/N*1000)/1000    \n",
    "    #w=0.1\n",
    "    h = math.floor(1/(M) *1000)/1000\n",
    "    #h=0.3\n",
    "    #print N,M,w,h\n",
    "    pad = 0\n",
    "    fig = plt.figure(figsize=(N/1.5, M), dpi=120)    \n",
    "    for j in range(M):\n",
    "        for i in range(N):\n",
    "            n = i+(j*N)+1 \n",
    "            if n > total:\n",
    "                break\n",
    "            l = pad+(i+1)*(w+pad)\n",
    "            b = pad+(j)*(h+pad)\n",
    "            #print n,l,b,Y[n-1]\n",
    "            #a = fig.add_axes([l, b, w, h])\n",
    "            a = fig.add_subplot(M,N,n)\n",
    "            a.imshow(X[n-1][0])\n",
    "            a.axis('off')\n",
    "            a.set_title(str(Y[n-1]),fontsize=10)"
   ]
  },
  {
   "cell_type": "code",
   "execution_count": 24,
   "metadata": {},
   "outputs": [
    {
     "data": {
      "image/png": "[encoded data removed]",
      "text/plain": [
       "<matplotlib.figure.Figure at 0x7f249c4a4910>"
      ]
     },
     "metadata": {},
     "output_type": "display_data"
    }
   ],
   "source": [
    "plotSet(X_train,y_train,15)"
   ]
  },
  {
   "cell_type": "markdown",
   "metadata": {},
   "source": [
    "## Convert labels to 10 distinct class labels (one-hot)"
   ]
  },
  {
   "cell_type": "code",
   "execution_count": 25,
   "metadata": {},
   "outputs": [
    {
     "name": "stdout",
     "output_type": "stream",
     "text": [
      "<type 'numpy.uint8'>\n",
      "<type 'numpy.int32'>\n"
     ]
    }
   ],
   "source": [
    "print type(y_train[0])\n",
    "y_train = y_train.astype(np.int32)\n",
    "y_test = y_test.astype(np.int32)\n",
    "print type(y_train[0])"
   ]
  },
  {
   "cell_type": "markdown",
   "metadata": {},
   "source": [
    "## Define model architecture"
   ]
  },
  {
   "cell_type": "code",
   "execution_count": 26,
   "metadata": {
    "collapsed": true
   },
   "outputs": [],
   "source": [
    "batchsize = 32\n",
    "epoch = 12"
   ]
  },
  {
   "cell_type": "code",
   "execution_count": 27,
   "metadata": {
    "collapsed": true
   },
   "outputs": [],
   "source": [
    "# Model definition\n",
    "class MLP(chainer.Chain):\n",
    "\n",
    "    def __init__(self):\n",
    "        super(MLP, self).__init__(\n",
    "            l1 = L.Convolution2D(None, 32, (3,3)),\n",
    "            l2 = L.Convolution2D(None, 32, (3,3)),\n",
    "            l6 = L.Linear(None, 128),\n",
    "            l8 = L.Linear(None, 10),\n",
    "        )\n",
    "\n",
    "    def __call__(self, x):\n",
    "        h1 = F.relu(self.l1(x))\n",
    "        h2 = F.relu(self.l2(h1))\n",
    "        h3 = F.max_pooling_2d(h2, (2,2))\n",
    "        h4 = F.dropout(h3, 0.25)\n",
    "        #print \"H4 shape:\", h4.shape\n",
    "        h5 = F.reshape(h4,(h4.shape[0],h4.shape[1]*h4.shape[2]*h4.shape[3]))\n",
    "        h6 = F.relu(self.l6(h5))\n",
    "        h7 = F.dropout(h6, 0.5)\n",
    "        h8 = F.softmax(self.l8(h7))\n",
    "        return h8"
   ]
  },
  {
   "cell_type": "code",
   "execution_count": 29,
   "metadata": {
    "collapsed": true
   },
   "outputs": [],
   "source": [
    "from chainer.datasets import tuple_dataset\n",
    "traning_dataset = tuple_dataset.TupleDataset(X_train, y_train)\n",
    "test_dataset = tuple_dataset.TupleDataset(X_test, y_test)"
   ]
  },
  {
   "cell_type": "markdown",
   "metadata": {},
   "source": [
    "# Training parameters"
   ]
  },
  {
   "cell_type": "code",
   "execution_count": 28,
   "metadata": {
    "collapsed": true
   },
   "outputs": [],
   "source": [
    "model = L.Classifier(MLP(), lossfun = F.softmax_cross_entropy)\n",
    "optimizer = chainer.optimizers.Adam()\n",
    "optimizer.setup(model)"
   ]
  },
  {
   "cell_type": "code",
   "execution_count": 30,
   "metadata": {
    "collapsed": true
   },
   "outputs": [],
   "source": [
    "from chainer.training import extensions\n",
    "\n",
    "train_iter = chainer.iterators.SerialIterator(traning_dataset, batchsize)\n",
    "test_iter = chainer.iterators.SerialIterator(test_dataset, batchsize,\n",
    "                                                 repeat=False, shuffle=False)\n",
    "updater = training.StandardUpdater(train_iter, optimizer)\n",
    "trainer = training.Trainer(updater, (epoch, 'epoch'), out=\".\")\n",
    "# Evaluate the model with the test dataset for each epoch\n",
    "trainer.extend(extensions.Evaluator(test_iter, model))\n",
    "trainer.extend(extensions.LogReport())\n",
    "trainer.extend(extensions.PrintReport(\n",
    "    ['epoch',  'main/loss', 'validation/main/loss', 'main/accuracy','validation/main/accuracy', 'elapsed_time']))\n",
    "# Save two plot images to the result dir\n",
    "if extensions.PlotReport.available():\n",
    "    trainer.extend(\n",
    "        extensions.PlotReport(['main/loss', 'validation/main/loss', 'main/accuracy', 'validation/main/accuracy'],\n",
    "                              'epoch', file_name='learning_curve.png'))"
   ]
  },
  {
   "cell_type": "markdown",
   "metadata": {},
   "source": [
    "# Training"
   ]
  },
  {
   "cell_type": "code",
   "execution_count": 31,
   "metadata": {},
   "outputs": [
    {
     "name": "stdout",
     "output_type": "stream",
     "text": [
      "epoch       main/loss   validation/main/loss  main/accuracy  validation/main/accuracy  elapsed_time\n",
      "\u001b[J1           1.54701     1.50536               0.91725        0.955871                  203.088       \n",
      "\u001b[J2           1.50737     1.49751               0.954317       0.964058                  396.947       \n",
      "\u001b[J3           1.49966     1.49447               0.961783       0.966454                  615.471       \n",
      "\u001b[J4           1.49632     1.49325               0.964783       0.967352                  840.63        \n",
      "\u001b[J5           1.49339     1.49209               0.96775        0.96905                   1089.9        \n",
      "\u001b[J6           1.49215     1.49303               0.968933       0.968051                  1331.49       \n",
      "\u001b[J7           1.49059     1.49546               0.97055        0.965755                  1574.83       \n",
      "\u001b[J8           1.48818     1.49271               0.9729         0.968351                  1813.04       \n",
      "\u001b[J9           1.48798     1.49079               0.97305        0.970048                  2060.59       \n",
      "\u001b[J10          1.48845     1.48787               0.9725         0.973343                  2299.62       \n",
      "\u001b[J11          1.48643     1.48727               0.974633       0.973942                  2570.96       \n",
      "\u001b[J12          1.48775     1.4989                0.973217       0.962161                  2805.64       \n"
     ]
    }
   ],
   "source": [
    "model.cleargrads()\n",
    "trainer.run()"
   ]
  },
  {
   "cell_type": "markdown",
   "metadata": {},
   "source": [
    "# Test predictions"
   ]
  },
  {
   "cell_type": "code",
   "execution_count": 33,
   "metadata": {
    "collapsed": true
   },
   "outputs": [],
   "source": [
    "def decodeNum(x):\n",
    "    i = []\n",
    "    for xi in x:\n",
    "        ni = np.argmax(xi)\n",
    "        i.append(ni)\n",
    "    return i"
   ]
  },
  {
   "cell_type": "code",
   "execution_count": 38,
   "metadata": {
    "scrolled": false
   },
   "outputs": [
    {
     "name": "stdout",
     "output_type": "stream",
     "text": [
      "Have 3 errors\n",
      "9 ≠ 4\n",
      "8 ≠ 9\n",
      "3 ≠ 5\n"
     ]
    },
    {
     "data": {
      "image/png": "[encoded data removed]",
      "text/plain": [
       "<matplotlib.figure.Figure at 0x7f249c4fe610>"
      ]
     },
     "metadata": {},
     "output_type": "display_data"
    },
    {
     "data": {
      "image/png": "[encoded data removed]",
      "text/plain": [
       "<matplotlib.figure.Figure at 0x7f249c1e0410>"
      ]
     },
     "metadata": {},
     "output_type": "display_data"
    },
    {
     "data": {
      "image/png": "[encoded data removed]",
      "text/plain": [
       "<matplotlib.figure.Figure at 0x7f249e3441d0>"
      ]
     },
     "metadata": {},
     "output_type": "display_data"
    },
    {
     "data": {
      "image/png": "[encoded data removed]",
      "text/plain": [
       "<matplotlib.figure.Figure at 0x7f249c14d6d0>"
      ]
     },
     "metadata": {},
     "output_type": "display_data"
    }
   ],
   "source": [
    "# Pick random indexes\n",
    "test_indexes = np.random.randint(0,y_test.shape[0], batchsize)\n",
    "x = X_test[test_indexes]\n",
    "t = y_test[test_indexes]\n",
    "\n",
    "# Predictions for random elements\n",
    "y = model.predictor(x)\n",
    "y = y.data\n",
    "# y has predictions as probabilities\n",
    "h = np.asarray(decodeNum(y))\n",
    "# h has predictions as numbers\n",
    "\n",
    "# Find incorrect predictions\n",
    "errors = []\n",
    "for i in range(len(h)):\n",
    "    if h[i] != t[i]:        \n",
    "        errors.append(i)\n",
    "print \"Have\",len(errors),\"errors\"\n",
    "# errors has indexes of incorrect redictions\n",
    "for i in errors:\n",
    "    print h[i],\"≠\", t[i]\n",
    "\n",
    "# plot images and predictions (incorrect)\n",
    "if len(errors) > 0:\n",
    "    plotSet(x[errors],h[errors])\n",
    "\n",
    "    # Plot probabilities\n",
    "    y_err = y[errors]\n",
    "    for i in range(len(y_err)):\n",
    "        fig = plt.figure()\n",
    "        plt.bar(range(len(y_err[i])), y_err[i])"
   ]
  },
  {
   "cell_type": "code",
   "execution_count": null,
   "metadata": {
    "collapsed": true
   },
   "outputs": [],
   "source": []
  }
 ],
 "metadata": {
  "kernelspec": {
   "display_name": "Python 2",
   "language": "python",
   "name": "python2"
  },
  "language_info": {
   "codemirror_mode": {
    "name": "ipython",
    "version": 2
   },
   "file_extension": ".py",
   "mimetype": "text/x-python",
   "name": "python",
   "nbconvert_exporter": "python",
   "pygments_lexer": "ipython2",
   "version": "2.7.9"
  }
 },
 "nbformat": 4,
 "nbformat_minor": 2
}
